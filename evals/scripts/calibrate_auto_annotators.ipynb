{
 "cells": [
  {
   "cell_type": "code",
   "execution_count": null,
   "id": "577d332e",
   "metadata": {},
   "outputs": [],
   "source": [
    "import sys\n",
    "import os\n",
    "import pandas as pd\n",
    "\n",
    "\n",
    "evals_dir = os.path.abspath(os.path.join(os.getcwd(), '../'))\n",
    "sys.path.insert(0, evals_dir)\n",
    "\n",
    "from eval_utils import *  # Import all functions from eval_utils\n",
    "from src.evaluator import Evaluator\n",
    "\n",
    "evaluator = Evaluator()"
   ]
  }
 ],
 "metadata": {
  "language_info": {
   "name": "python"
  }
 },
 "nbformat": 4,
 "nbformat_minor": 5
}
