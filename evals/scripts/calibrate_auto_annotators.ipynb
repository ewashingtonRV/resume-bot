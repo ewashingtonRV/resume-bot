{
 "cells": [
  {
   "cell_type": "code",
   "execution_count": 15,
   "id": "577d332e",
   "metadata": {},
   "outputs": [],
   "source": [
    "import sys\n",
    "import os\n",
    "import pandas as pd\n",
    "from langchain_core.messages import SystemMessage\n",
    "\n",
    "from eval_prompts import *\n",
    "\n",
    "evals_dir = os.path.abspath(os.path.join(os.getcwd(), '../'))\n",
    "sys.path.insert(0, evals_dir)\n",
    "\n",
    "from eval_utils import *  # Import all functions from eval_utils\n",
    "from src.evaluator import Evaluator\n",
    "from src.traces_etl import TracesETL\n",
    "\n",
    "evaluator = Evaluator()\n",
    "trace_etl = TracesETL()"
   ]
  },
  {
   "cell_type": "code",
   "execution_count": 16,
   "id": "d11aee14",
   "metadata": {},
   "outputs": [
    {
     "name": "stdout",
     "output_type": "stream",
     "text": [
      "✅ Success with encoding: cp1252\n"
     ]
    }
   ],
   "source": [
    "golden_df = get_golden_dataset()\n",
    "golden_lod = golden_df.to_dict('records')"
   ]
  },
  {
   "cell_type": "code",
   "execution_count": 18,
   "id": "9f10883e",
   "metadata": {},
   "outputs": [],
   "source": [
    "thread_id_to_factual_accuracy = {\n",
    "    thread_id: factual_accuracy \n",
    "    for thread_id, factual_accuracy in zip(golden_df[\"thread_id\"], golden_df[\"eval_factual_accuracy\"])\n",
    "}\n",
    "thread_id_to_successful_response = {\n",
    "    thread_id: successful_response \n",
    "    for thread_id, successful_response in zip(golden_df[\"thread_id\"], golden_df[\"eval_answer_user_question\"])\n",
    "}\n"
   ]
  },
  {
   "cell_type": "code",
   "execution_count": 3,
   "id": "981ffaf0",
   "metadata": {},
   "outputs": [
    {
     "name": "stdout",
     "output_type": "stream",
     "text": [
      "0.0\n",
      "0.21\n",
      "0.43\n",
      "0.64\n",
      "0.85\n"
     ]
    }
   ],
   "source": [
    "factual_accuracy_response_lod = []\n",
    "successful_response_response_lod = []\n",
    "\n",
    "for i, dict in enumerate(golden_lod):\n",
    "    if i % 10 == 0:\n",
    "        print(round(i / len(golden_lod), 2))\n",
    "    human_question = dict[\"human_question\"]\n",
    "    ai_answer = dict[\"ai_answer\"]\n",
    "    reference_text = dict[\"system_prompt\"]\n",
    "    tool_used = dict[\"tool_used\"]\n",
    "    thread_id = dict[\"thread_id\"]\n",
    "\n",
    "    factual_accuracy_system_prompt = create_factual_accuracy_system_prompt(human_question, reference_text, ai_answer)\n",
    "    successful_response_system_prompt = create_successful_response_system_prompt(human_question, ai_answer, tool_used)\n",
    "\n",
    "    factual_accuracy_response = evaluator.auto_annotate(factual_accuracy_system_prompt)\n",
    "    factual_accuracy_response[\"eval_name\"] = \"factual_accuracy\"\n",
    "    factual_accuracy_response[\"thread_id\"] = thread_id\n",
    "    factual_accuracy_response_lod.append(factual_accuracy_response)\n",
    "\n",
    "    successful_response_response = evaluator.auto_annotate(successful_response_system_prompt)\n",
    "    successful_response_response[\"eval_name\"] = \"complete_response\"\n",
    "    successful_response_response[\"thread_id\"] = thread_id\n",
    "    successful_response_response_lod.append(successful_response_response)"
   ]
  },
  {
   "cell_type": "code",
   "execution_count": 30,
   "id": "61d1dbae",
   "metadata": {},
   "outputs": [],
   "source": [
    "factual_accuracy_df = pd.DataFrame(factual_accuracy_response_lod)\n",
    "factual_accuracy_df[\"golden_response\"] = golden_df[\"thread_id\"].map(thread_id_to_factual_accuracy)\n",
    "successful_response_df = pd.DataFrame(successful_response_response_lod)\n",
    "successful_response_df[\"golden_response\"] = golden_df[\"thread_id\"].map(thread_id_to_successful_response)\n",
    "eval_results_df = pd.concat([factual_accuracy_df, successful_response_df])"
   ]
  },
  {
   "cell_type": "code",
   "execution_count": 31,
   "id": "e95d8289",
   "metadata": {},
   "outputs": [
    {
     "data": {
      "text/html": [
       "<div>\n",
       "<style scoped>\n",
       "    .dataframe tbody tr th:only-of-type {\n",
       "        vertical-align: middle;\n",
       "    }\n",
       "\n",
       "    .dataframe tbody tr th {\n",
       "        vertical-align: top;\n",
       "    }\n",
       "\n",
       "    .dataframe thead th {\n",
       "        text-align: right;\n",
       "    }\n",
       "</style>\n",
       "<table border=\"1\" class=\"dataframe\">\n",
       "  <thead>\n",
       "    <tr style=\"text-align: right;\">\n",
       "      <th></th>\n",
       "      <th>eval_name</th>\n",
       "      <th>response</th>\n",
       "      <th>thread_id</th>\n",
       "    </tr>\n",
       "  </thead>\n",
       "  <tbody>\n",
       "    <tr>\n",
       "      <th>0</th>\n",
       "      <td>factual_accuracy</td>\n",
       "      <td>fail</td>\n",
       "      <td>44</td>\n",
       "    </tr>\n",
       "    <tr>\n",
       "      <th>1</th>\n",
       "      <td>factual_accuracy</td>\n",
       "      <td>pass</td>\n",
       "      <td>3</td>\n",
       "    </tr>\n",
       "    <tr>\n",
       "      <th>2</th>\n",
       "      <td>successful_response</td>\n",
       "      <td>fail</td>\n",
       "      <td>8</td>\n",
       "    </tr>\n",
       "    <tr>\n",
       "      <th>3</th>\n",
       "      <td>successful_response</td>\n",
       "      <td>pass</td>\n",
       "      <td>39</td>\n",
       "    </tr>\n",
       "  </tbody>\n",
       "</table>\n",
       "</div>"
      ],
      "text/plain": [
       "             eval_name response  thread_id\n",
       "0     factual_accuracy     fail         44\n",
       "1     factual_accuracy     pass          3\n",
       "2  successful_response     fail          8\n",
       "3  successful_response     pass         39"
      ]
     },
     "execution_count": 31,
     "metadata": {},
     "output_type": "execute_result"
    }
   ],
   "source": [
    "eval_results_df.groupby([\"eval_name\", \"response\"])[\"thread_id\"].count().reset_index()"
   ]
  },
  {
   "cell_type": "code",
   "execution_count": 34,
   "id": "c5132d54",
   "metadata": {},
   "outputs": [
    {
     "data": {
      "text/html": [
       "<div>\n",
       "<style scoped>\n",
       "    .dataframe tbody tr th:only-of-type {\n",
       "        vertical-align: middle;\n",
       "    }\n",
       "\n",
       "    .dataframe tbody tr th {\n",
       "        vertical-align: top;\n",
       "    }\n",
       "\n",
       "    .dataframe thead th {\n",
       "        text-align: right;\n",
       "    }\n",
       "</style>\n",
       "<table border=\"1\" class=\"dataframe\">\n",
       "  <thead>\n",
       "    <tr style=\"text-align: right;\">\n",
       "      <th></th>\n",
       "      <th>eval_name</th>\n",
       "      <th>eval_match</th>\n",
       "      <th>thread_id</th>\n",
       "    </tr>\n",
       "  </thead>\n",
       "  <tbody>\n",
       "    <tr>\n",
       "      <th>0</th>\n",
       "      <td>factual_accuracy</td>\n",
       "      <td>False</td>\n",
       "      <td>38</td>\n",
       "    </tr>\n",
       "    <tr>\n",
       "      <th>1</th>\n",
       "      <td>factual_accuracy</td>\n",
       "      <td>True</td>\n",
       "      <td>9</td>\n",
       "    </tr>\n",
       "    <tr>\n",
       "      <th>2</th>\n",
       "      <td>successful_response</td>\n",
       "      <td>False</td>\n",
       "      <td>4</td>\n",
       "    </tr>\n",
       "    <tr>\n",
       "      <th>3</th>\n",
       "      <td>successful_response</td>\n",
       "      <td>True</td>\n",
       "      <td>43</td>\n",
       "    </tr>\n",
       "  </tbody>\n",
       "</table>\n",
       "</div>"
      ],
      "text/plain": [
       "             eval_name  eval_match  thread_id\n",
       "0     factual_accuracy       False         38\n",
       "1     factual_accuracy        True          9\n",
       "2  successful_response       False          4\n",
       "3  successful_response        True         43"
      ]
     },
     "execution_count": 34,
     "metadata": {},
     "output_type": "execute_result"
    }
   ],
   "source": [
    "eval_results_df[\"eval_match\"] = eval_results_df[\"golden_response\"] == eval_results_df[\"response\"]\n",
    "eval_results_df.groupby([\"eval_name\", \"eval_match\"])[\"thread_id\"].count().reset_index()"
   ]
  },
  {
   "cell_type": "code",
   "execution_count": 42,
   "id": "7c83d105",
   "metadata": {},
   "outputs": [],
   "source": [
    "final_eval_df = eval_results_df.merge(golden_df[[\"thread_id\", \"ai_answer\", \"system_prompt\", \"tool_used\", \"human_question\"]], on=\"thread_id\", how=\"left\")"
   ]
  },
  {
   "cell_type": "code",
   "execution_count": 43,
   "id": "79354364",
   "metadata": {},
   "outputs": [],
   "source": [
    "final_eval_df.to_csv(\"/Users/ewashington/Desktop/github/resume-bot/data/evals/eval_results_df.csv\", index=False)"
   ]
  }
 ],
 "metadata": {
  "kernelspec": {
   "display_name": ".venv",
   "language": "python",
   "name": "python3"
  },
  "language_info": {
   "codemirror_mode": {
    "name": "ipython",
    "version": 3
   },
   "file_extension": ".py",
   "mimetype": "text/x-python",
   "name": "python",
   "nbconvert_exporter": "python",
   "pygments_lexer": "ipython3",
   "version": "3.10.9"
  }
 },
 "nbformat": 4,
 "nbformat_minor": 5
}
