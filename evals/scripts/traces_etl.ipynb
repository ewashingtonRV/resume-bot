{
 "cells": [
  {
   "cell_type": "code",
   "execution_count": 1,
   "id": "d4df251e",
   "metadata": {},
   "outputs": [],
   "source": [
    "from langsmith import Client\n",
    "import os\n",
    "from datetime import datetime, timedelta"
   ]
  },
  {
   "cell_type": "code",
   "execution_count": 2,
   "id": "41390c20",
   "metadata": {},
   "outputs": [],
   "source": [
    "client = Client()\n",
    "\n",
    "langsmith_project_name = os.getenv(\"LANGSMITH_PROJECT\")\n",
    "start_time = datetime.now() - timedelta(days=1)\n",
    "project_runs = client.list_runs(\n",
    "    project_name=langsmith_project_name,\n",
    "    start_time=start_time,\n",
    "    run_type=\"llm\")\n",
    "\n",
    "runs_list = list(project_runs)\n"
   ]
  },
  {
   "cell_type": "code",
   "execution_count": null,
   "id": "35f4e36a",
   "metadata": {},
   "outputs": [],
   "source": [
    "# View trace metadata examples\n",
    "print(\"Exploring trace metadata...\")\n",
    "\n",
    "# Get the first few runs to examine metadata\n",
    "for i, run in enumerate(runs_list[:3]):\n",
    "    print(f\"\\n--- Run {i+1} ---\")\n",
    "    print(f\"Run ID: {run.id}\")\n",
    "    print(f\"Run Type: {run.run_type}\")\n",
    "    print(f\"Start Time: {run.start_time}\")\n",
    "    \n",
    "    # Check for metadata\n",
    "    if hasattr(run, 'extra') and run.extra:\n",
    "        print(f\"Metadata: {run.extra}\")\n",
    "    \n",
    "    # Check for tags\n",
    "    if hasattr(run, 'tags') and run.tags:\n",
    "        print(f\"Tags: {run.tags}\")\n",
    "    \n",
    "    # Check inputs/outputs for metadata\n",
    "    if hasattr(run, 'inputs') and run.inputs:\n",
    "        print(f\"Input keys: {list(run.inputs.keys())}\")\n",
    "    \n",
    "    print(\"-\" * 40)\n"
   ]
  },
  {
   "cell_type": "code",
   "execution_count": 9,
   "id": "ef3f5b18",
   "metadata": {},
   "outputs": [
    {
     "data": {
      "text/plain": [
       "27"
      ]
     },
     "execution_count": 9,
     "metadata": {},
     "output_type": "execute_result"
    }
   ],
   "source": [
    "trace_lod = [trace.dict() for trace in runs_list if trace.session_id == trace_session_id]\n",
    "len(trace_lod)"
   ]
  },
  {
   "cell_type": "code",
   "execution_count": 8,
   "id": "a2ba93a9",
   "metadata": {},
   "outputs": [
    {
     "data": {
      "text/plain": [
       "[UUID('3c0800f5-f9eb-48ff-803e-35ce75300933'),\n",
       " UUID('3c0800f5-f9eb-48ff-803e-35ce75300933'),\n",
       " UUID('3c0800f5-f9eb-48ff-803e-35ce75300933'),\n",
       " UUID('3c0800f5-f9eb-48ff-803e-35ce75300933'),\n",
       " UUID('3c0800f5-f9eb-48ff-803e-35ce75300933'),\n",
       " UUID('3c0800f5-f9eb-48ff-803e-35ce75300933'),\n",
       " UUID('3c0800f5-f9eb-48ff-803e-35ce75300933'),\n",
       " UUID('3c0800f5-f9eb-48ff-803e-35ce75300933'),\n",
       " UUID('3c0800f5-f9eb-48ff-803e-35ce75300933'),\n",
       " UUID('3c0800f5-f9eb-48ff-803e-35ce75300933'),\n",
       " UUID('3c0800f5-f9eb-48ff-803e-35ce75300933'),\n",
       " UUID('3c0800f5-f9eb-48ff-803e-35ce75300933'),\n",
       " UUID('3c0800f5-f9eb-48ff-803e-35ce75300933'),\n",
       " UUID('3c0800f5-f9eb-48ff-803e-35ce75300933'),\n",
       " UUID('3c0800f5-f9eb-48ff-803e-35ce75300933'),\n",
       " UUID('3c0800f5-f9eb-48ff-803e-35ce75300933'),\n",
       " UUID('3c0800f5-f9eb-48ff-803e-35ce75300933'),\n",
       " UUID('3c0800f5-f9eb-48ff-803e-35ce75300933'),\n",
       " UUID('3c0800f5-f9eb-48ff-803e-35ce75300933'),\n",
       " UUID('3c0800f5-f9eb-48ff-803e-35ce75300933'),\n",
       " UUID('3c0800f5-f9eb-48ff-803e-35ce75300933'),\n",
       " UUID('3c0800f5-f9eb-48ff-803e-35ce75300933'),\n",
       " UUID('3c0800f5-f9eb-48ff-803e-35ce75300933'),\n",
       " UUID('3c0800f5-f9eb-48ff-803e-35ce75300933'),\n",
       " UUID('3c0800f5-f9eb-48ff-803e-35ce75300933'),\n",
       " UUID('3c0800f5-f9eb-48ff-803e-35ce75300933'),\n",
       " UUID('3c0800f5-f9eb-48ff-803e-35ce75300933')]"
      ]
     },
     "execution_count": 8,
     "metadata": {},
     "output_type": "execute_result"
    }
   ],
   "source": [
    "trace_session_id_list = [interaction.session_id for interaction in runs_list]\n",
    "trace_session_id_list"
   ]
  },
  {
   "cell_type": "code",
   "execution_count": 32,
   "id": "0469b827",
   "metadata": {},
   "outputs": [
    {
     "data": {
      "text/plain": [
       "'intent_classification'"
      ]
     },
     "execution_count": 32,
     "metadata": {},
     "output_type": "execute_result"
    }
   ],
   "source": [
    "trace_thread_id_list = [interaction.metadata['thread_id'] for interaction in runs_list]\n",
    "trace_thread_id = trace_thread_id_list[0]\n",
    "trace_lod = [trace.dict() for trace in runs_list if trace.metadata['thread_id'] == trace_thread_id]\n",
    "trace_lod[1][\"extra\"][\"metadata\"][\"langgraph_node\"]"
   ]
  },
  {
   "cell_type": "code",
   "execution_count": null,
   "id": "c8904511",
   "metadata": {},
   "outputs": [],
   "source": [
    "# Simple metadata analysis focused on environment\n",
    "import pandas as pd\n",
    "\n",
    "# Create a DataFrame with run metadata for analysis\n",
    "runs_data = []\n",
    "for run in runs_list:\n",
    "    run_data = {\n",
    "        'run_id': run.id,\n",
    "        'run_type': run.run_type,\n",
    "        'start_time': run.start_time,\n",
    "        'end_time': run.end_time if hasattr(run, 'end_time') else None,\n",
    "        'tags': run.tags if hasattr(run, 'tags') else [],\n",
    "        'metadata': run.extra if hasattr(run, 'extra') else {}\n",
    "    }\n",
    "    \n",
    "    # Extract environment-specific metadata fields\n",
    "    if run.extra:\n",
    "        run_data.update({\n",
    "            'environment': run.extra.get('environment'),\n",
    "            'is_local_testing': run.extra.get('is_local_testing'),\n",
    "            'interface': run.extra.get('interface')\n",
    "        })\n",
    "    \n",
    "    runs_data.append(run_data)\n",
    "\n",
    "# Convert to DataFrame for easier analysis\n",
    "df_runs = pd.DataFrame(runs_data)\n",
    "print(f\"Total runs: {len(df_runs)}\")\n",
    "print(f\"Columns: {df_runs.columns.tolist()}\")\n",
    "\n",
    "# Show basic environment statistics\n",
    "if not df_runs.empty:\n",
    "    if 'interface' in df_runs.columns:\n",
    "        print(f\"\\nInterface distribution:\")\n",
    "        print(df_runs['interface'].value_counts())\n",
    "    \n",
    "    if 'environment' in df_runs.columns:\n",
    "        print(f\"\\nEnvironment distribution:\")\n",
    "        print(df_runs['environment'].value_counts())\n"
   ]
  },
  {
   "cell_type": "code",
   "execution_count": null,
   "id": "8d2cb1ae",
   "metadata": {},
   "outputs": [],
   "source": [
    "# Simple environment analysis\n",
    "if 'environment' in df_runs.columns:\n",
    "    print(\"Environment Distribution:\")\n",
    "    env_counts = df_runs['environment'].value_counts()\n",
    "    print(env_counts)\n",
    "    \n",
    "    # Show local vs production split\n",
    "    local_count = len(df_runs[df_runs['is_local_testing'] == True]) if 'is_local_testing' in df_runs.columns else 0\n",
    "    total_count = len(df_runs)\n",
    "    prod_count = total_count - local_count\n",
    "    \n",
    "    print(f\"\\nLocal testing requests: {local_count}\")\n",
    "    print(f\"Production requests: {prod_count}\")\n",
    "    print(f\"Local percentage: {(local_count/total_count)*100:.1f}%\" if total_count > 0 else \"No data\")\n",
    "\n",
    "# Filter local vs production for analysis\n",
    "if 'is_local_testing' in df_runs.columns:\n",
    "    local_runs = df_runs[df_runs['is_local_testing'] == True]\n",
    "    prod_runs = df_runs[df_runs['is_local_testing'] == False]\n",
    "    \n",
    "    print(f\"\\nLocal runs: {len(local_runs)}\")\n",
    "    print(f\"Production runs: {len(prod_runs)}\")\n",
    "    \n",
    "    # Show interface breakdown\n",
    "    if 'interface' in df_runs.columns:\n",
    "        print(f\"\\nInterface breakdown:\")\n",
    "        print(\"Local:\")\n",
    "        print(local_runs['interface'].value_counts() if not local_runs.empty else \"No local runs\")\n",
    "        print(\"Production:\")\n",
    "        print(prod_runs['interface'].value_counts() if not prod_runs.empty else \"No production runs\")\n"
   ]
  },
  {
   "cell_type": "code",
   "execution_count": null,
   "id": "38041141",
   "metadata": {},
   "outputs": [],
   "source": [
    "first_trace = runs_list[1]\n",
    "attributes = [attr for attr in dir(first_trace) if not attr.startswith('_')]\n",
    "attributes\n"
   ]
  },
  {
   "cell_type": "code",
   "execution_count": null,
   "id": "3a9a6be1",
   "metadata": {},
   "outputs": [],
   "source": [
    "first_trace.dict()"
   ]
  }
 ],
 "metadata": {
  "kernelspec": {
   "display_name": ".venv",
   "language": "python",
   "name": "python3"
  },
  "language_info": {
   "codemirror_mode": {
    "name": "ipython",
    "version": 3
   },
   "file_extension": ".py",
   "mimetype": "text/x-python",
   "name": "python",
   "nbconvert_exporter": "python",
   "pygments_lexer": "ipython3",
   "version": "3.10.9"
  }
 },
 "nbformat": 4,
 "nbformat_minor": 5
}
