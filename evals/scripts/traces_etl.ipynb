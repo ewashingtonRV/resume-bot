{
 "cells": [
  {
   "cell_type": "code",
   "execution_count": 12,
   "id": "d4df251e",
   "metadata": {},
   "outputs": [],
   "source": [
    "from langsmith import Client\n",
    "import os\n",
    "from datetime import datetime, timedelta\n",
    "import pandas as pd\n",
    "import sys"
   ]
  },
  {
   "cell_type": "code",
   "execution_count": 13,
   "id": "a239bf6c",
   "metadata": {},
   "outputs": [],
   "source": [
    "# Add evals directory to path\n",
    "evals_dir = os.path.abspath(os.path.join(os.getcwd(), '../'))\n",
    "sys.path.insert(0, evals_dir)\n",
    "\n",
    "# Import SyntheticQueryGenerator\n",
    "from src.traces_etl import TracesETL\n",
    "from eval_utils import *  # Import all functions from eval_utils"
   ]
  },
  {
   "cell_type": "code",
   "execution_count": 14,
   "id": "439b81bd",
   "metadata": {},
   "outputs": [],
   "source": [
    "traces_etl = TracesETL()"
   ]
  },
  {
   "cell_type": "code",
   "execution_count": 15,
   "id": "89987a9c",
   "metadata": {},
   "outputs": [
    {
     "name": "stdout",
     "output_type": "stream",
     "text": [
      "(48, 7)\n"
     ]
    },
    {
     "data": {
      "text/html": [
       "<div>\n",
       "<style scoped>\n",
       "    .dataframe tbody tr th:only-of-type {\n",
       "        vertical-align: middle;\n",
       "    }\n",
       "\n",
       "    .dataframe tbody tr th {\n",
       "        vertical-align: top;\n",
       "    }\n",
       "\n",
       "    .dataframe thead th {\n",
       "        text-align: right;\n",
       "    }\n",
       "</style>\n",
       "<table border=\"1\" class=\"dataframe\">\n",
       "  <thead>\n",
       "    <tr style=\"text-align: right;\">\n",
       "      <th></th>\n",
       "      <th>thread_id</th>\n",
       "      <th>human_question</th>\n",
       "      <th>system_prompt</th>\n",
       "      <th>ai_answer</th>\n",
       "      <th>tool_used</th>\n",
       "      <th>intent_classification</th>\n",
       "      <th>github_stats_classification</th>\n",
       "    </tr>\n",
       "  </thead>\n",
       "  <tbody>\n",
       "    <tr>\n",
       "      <th>0</th>\n",
       "      <td>0f6927b6-efdb-40ea-9cad-8bdd568564fd</td>\n",
       "      <td>Can you describe what github activity Eric has...</td>\n",
       "      <td>You are a helpful assitant named Remy whose ob...</td>\n",
       "      <td>It seems that there is no specific GitHub acti...</td>\n",
       "      <td>True</td>\n",
       "      <td>ds-lead</td>\n",
       "      <td>True</td>\n",
       "    </tr>\n",
       "    <tr>\n",
       "      <th>1</th>\n",
       "      <td>1416f201-ec33-44f4-bef4-33399b79baea</td>\n",
       "      <td>Can you describe the architecture of the end-t...</td>\n",
       "      <td>You are a helpful assitant named Remy whose ob...</td>\n",
       "      <td>The end-to-end tagging product described invol...</td>\n",
       "      <td>False</td>\n",
       "      <td>article tagging</td>\n",
       "      <td>False</td>\n",
       "    </tr>\n",
       "    <tr>\n",
       "      <th>2</th>\n",
       "      <td>df37d78e-532b-4ed0-a6a9-94cee33a5301</td>\n",
       "      <td>Can you provide more information about the pro...</td>\n",
       "      <td>You are a helpful assitant named Remy whose ob...</td>\n",
       "      <td>The propensity model mentioned in relation to ...</td>\n",
       "      <td>False</td>\n",
       "      <td>recommendation models</td>\n",
       "      <td>False</td>\n",
       "    </tr>\n",
       "    <tr>\n",
       "      <th>3</th>\n",
       "      <td>b4ad42d2-6b38-422c-b597-23642e9a366c</td>\n",
       "      <td>Can you share what github contributions Eric m...</td>\n",
       "      <td>You are a helpful assitant named Remy whose ob...</td>\n",
       "      <td>It seems there are no specific contributions r...</td>\n",
       "      <td>True</td>\n",
       "      <td>recommendation models</td>\n",
       "      <td>True</td>\n",
       "    </tr>\n",
       "    <tr>\n",
       "      <th>4</th>\n",
       "      <td>be1b94f5-8522-4de6-a942-8d2b80f369e5</td>\n",
       "      <td>Can you elaborate on how the Two Tower models ...</td>\n",
       "      <td>You are a helpful assitant named Remy whose ob...</td>\n",
       "      <td>The Two Tower models in the RaaS (Relevancy as...</td>\n",
       "      <td>False</td>\n",
       "      <td>raas</td>\n",
       "      <td>False</td>\n",
       "    </tr>\n",
       "  </tbody>\n",
       "</table>\n",
       "</div>"
      ],
      "text/plain": [
       "                              thread_id  \\\n",
       "0  0f6927b6-efdb-40ea-9cad-8bdd568564fd   \n",
       "1  1416f201-ec33-44f4-bef4-33399b79baea   \n",
       "2  df37d78e-532b-4ed0-a6a9-94cee33a5301   \n",
       "3  b4ad42d2-6b38-422c-b597-23642e9a366c   \n",
       "4  be1b94f5-8522-4de6-a942-8d2b80f369e5   \n",
       "\n",
       "                                      human_question  \\\n",
       "0  Can you describe what github activity Eric has...   \n",
       "1  Can you describe the architecture of the end-t...   \n",
       "2  Can you provide more information about the pro...   \n",
       "3  Can you share what github contributions Eric m...   \n",
       "4  Can you elaborate on how the Two Tower models ...   \n",
       "\n",
       "                                       system_prompt  \\\n",
       "0  You are a helpful assitant named Remy whose ob...   \n",
       "1  You are a helpful assitant named Remy whose ob...   \n",
       "2  You are a helpful assitant named Remy whose ob...   \n",
       "3  You are a helpful assitant named Remy whose ob...   \n",
       "4  You are a helpful assitant named Remy whose ob...   \n",
       "\n",
       "                                           ai_answer  tool_used  \\\n",
       "0  It seems that there is no specific GitHub acti...       True   \n",
       "1  The end-to-end tagging product described invol...      False   \n",
       "2  The propensity model mentioned in relation to ...      False   \n",
       "3  It seems there are no specific contributions r...       True   \n",
       "4  The Two Tower models in the RaaS (Relevancy as...      False   \n",
       "\n",
       "   intent_classification github_stats_classification  \n",
       "0                ds-lead                        True  \n",
       "1        article tagging                       False  \n",
       "2  recommendation models                       False  \n",
       "3  recommendation models                        True  \n",
       "4                   raas                       False  "
      ]
     },
     "execution_count": 15,
     "metadata": {},
     "output_type": "execute_result"
    }
   ],
   "source": [
    "eval_lod = traces_etl.create_eval_lod(is_local_testing=True, lookback_days=2)\n",
    "eval_df = pd.DataFrame(eval_lod)\n",
    "print(eval_df.shape)\n",
    "eval_df.head()"
   ]
  }
 ],
 "metadata": {
  "kernelspec": {
   "display_name": ".venv",
   "language": "python",
   "name": "python3"
  },
  "language_info": {
   "codemirror_mode": {
    "name": "ipython",
    "version": 3
   },
   "file_extension": ".py",
   "mimetype": "text/x-python",
   "name": "python",
   "nbconvert_exporter": "python",
   "pygments_lexer": "ipython3",
   "version": "3.10.9"
  }
 },
 "nbformat": 4,
 "nbformat_minor": 5
}
