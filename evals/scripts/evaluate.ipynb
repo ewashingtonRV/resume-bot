{
 "cells": [
  {
   "cell_type": "markdown",
   "id": "661dd9fe",
   "metadata": {},
   "source": [
    "%load_ext autoreload\n",
    "%autoreload 2"
   ]
  },
  {
   "cell_type": "code",
   "execution_count": 1,
   "id": "afd7e648",
   "metadata": {},
   "outputs": [],
   "source": [
    "import sys\n",
    "import os\n",
    "import pandas as pd\n",
    "\n",
    "\n",
    "evals_dir = os.path.abspath(os.path.join(os.getcwd(), '../'))\n",
    "sys.path.insert(0, evals_dir)\n",
    "\n",
    "from eval_utils import *  # Import all functions from eval_utils\n",
    "from src.evaluator import Evaluator\n",
    "\n",
    "evaluator = Evaluator()"
   ]
  },
  {
   "cell_type": "code",
   "execution_count": 2,
   "id": "c4031ef9",
   "metadata": {},
   "outputs": [
    {
     "name": "stdout",
     "output_type": "stream",
     "text": [
      "⚠️  Loaded with latin-1 encoding\n"
     ]
    }
   ],
   "source": [
    "golden_dataset_path = \"/Users/ewashington/Desktop/github/resume-bot/data/evals/curated_questions.csv\"\n",
    "\n",
    "try:\n",
    "    # Try UTF-8 first\n",
    "    golden_df = pd.read_csv(golden_dataset_path, encoding='utf-8')\n",
    "except UnicodeDecodeError:\n",
    "    try:\n",
    "        # Fall back to latin-1 (handles most special characters)\n",
    "        golden_df = pd.read_csv(golden_dataset_path, encoding='latin-1')\n",
    "        print(\"⚠️  Loaded with latin-1 encoding\")\n",
    "    except UnicodeDecodeError:\n",
    "        # Last resort - ignore errors\n",
    "        golden_df = pd.read_csv(golden_dataset_path, encoding='utf-8', errors='ignore')\n",
    "        print(\"⚠️  Loaded with error ignoring - some characters may be missing\")\n",
    "\n",
    "questions = golden_df['message_human'].tolist()"
   ]
  },
  {
   "cell_type": "code",
   "execution_count": 26,
   "id": "e9360c9c",
   "metadata": {},
   "outputs": [
    {
     "name": "stdout",
     "output_type": "stream",
     "text": [
      "0.0\n",
      "0.02\n",
      "0.05\n",
      "0.07\n",
      "0.09\n",
      "0.12\n",
      "0.14\n",
      "0.16\n",
      "0.19\n",
      "0.21\n",
      "0.23\n",
      "0.26\n",
      "0.28\n",
      "0.3\n",
      "0.33\n",
      "0.35\n",
      "0.37\n",
      "0.4\n",
      "0.42\n",
      "0.44\n",
      "0.47\n",
      "0.49\n",
      "0.51\n",
      "0.53\n",
      "0.56\n",
      "0.58\n",
      "0.6\n",
      "0.63\n",
      "0.65\n",
      "0.67\n",
      "0.7\n",
      "0.72\n",
      "0.74\n",
      "0.77\n",
      "0.79\n",
      "0.81\n",
      "0.84\n",
      "0.86\n",
      "0.88\n",
      "0.91\n",
      "0.93\n",
      "0.95\n",
      "0.98\n"
     ]
    }
   ],
   "source": [
    "for i, question in enumerate(questions):\n",
    "    print(round(i/len(questions), 2))\n",
    "    response = ask_single_question(question)\n"
   ]
  },
  {
   "cell_type": "code",
   "execution_count": 3,
   "id": "ce872f54",
   "metadata": {},
   "outputs": [
    {
     "name": "stdout",
     "output_type": "stream",
     "text": [
      "In the past 365 days, Eric Washington made the following code contributions to the RaaS project:\n",
      "\n",
      "1. **raas-admin-console-ds-sidecar**\n",
      "   - Commits: 11\n",
      "   - Pull Requests: 12\n",
      "   - Total Code Changes: 8,982\n",
      "\n",
      "2. **optum-now-core-graphql-api**\n",
      "   - Commits: 0\n",
      "   - Pull Requests: 13\n",
      "   - Total Code Changes: 0\n",
      "\n",
      "3. **optum-now-traveler-api-ds-sidecar**\n",
      "   - Commits: 20\n",
      "   - Pull Requests: 15\n",
      "   - Total Code Changes: 2,104\n",
      "\n",
      "4. **optum-now-traveler-ds-api**\n",
      "   - Commits: 1\n",
      "   - Pull Requests: 30\n",
      "   - Total Code Changes: 5\n",
      "\n",
      "5. **traveler-v3-scratch**\n",
      "   - Commits: 2\n",
      "   - Pull Requests: 1\n",
      "   - Total Code Changes: 10\n",
      "\n",
      "6. **unified-search-vespa-application**\n",
      "   - Commits: 13\n",
      "   - Pull Requests: 30\n",
      "   - Total Code Changes: 1,871 \n",
      "\n",
      "These contributions reflect a diverse involvement in various aspects of the RaaS initiative over the past year.\n"
     ]
    }
   ],
   "source": [
    "question = \"What code contributions did Eric make to the RaaS project in the past 365 days\"\n",
    "response = ask_single_question(question)\n",
    "print(response)\n",
    "\n",
    "\n",
    "\n",
    "\n",
    "\n",
    "\n",
    "\n",
    "\n",
    "\n",
    "\n",
    "\n"
   ]
  }
 ],
 "metadata": {
  "kernelspec": {
   "display_name": ".venv",
   "language": "python",
   "name": "python3"
  },
  "language_info": {
   "codemirror_mode": {
    "name": "ipython",
    "version": 3
   },
   "file_extension": ".py",
   "mimetype": "text/x-python",
   "name": "python",
   "nbconvert_exporter": "python",
   "pygments_lexer": "ipython3",
   "version": "3.10.9"
  }
 },
 "nbformat": 4,
 "nbformat_minor": 5
}
