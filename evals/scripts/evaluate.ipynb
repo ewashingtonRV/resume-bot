{
 "cells": [
  {
   "cell_type": "code",
   "execution_count": 1,
   "id": "661dd9fe",
   "metadata": {},
   "outputs": [],
   "source": [
    "%load_ext autoreload\n",
    "%autoreload 2"
   ]
  },
  {
   "cell_type": "code",
   "execution_count": 2,
   "id": "afd7e648",
   "metadata": {},
   "outputs": [],
   "source": [
    "import sys\n",
    "import os\n",
    "\n",
    "evals_dir = os.path.abspath(os.path.join(os.getcwd(), '../'))\n",
    "sys.path.insert(0, evals_dir)\n",
    "\n",
    "from eval_utils import *  # Import all functions from eval_utils\n",
    "from src.evaluator import Evaluator\n",
    "\n",
    "evaluator = Evaluator()"
   ]
  },
  {
   "cell_type": "code",
   "execution_count": 3,
   "id": "38986a01",
   "metadata": {},
   "outputs": [],
   "source": [
    "questions = [\n",
    "    \"Can you provide an example of how you resolved conflicts or drove consensus on technical decisions?\",\n",
    "    \"What principles or frameworks did you follow when designing the system architectures for evaluating AI agents?\",\n",
    "    \"What metrics or methodologies do you use to evaluate the performance and effectiveness of AI agents?\",\n",
    "    \"How do you ensure the evaluation process accounts for real-world variability and edge cases?\"]"
   ]
  },
  {
   "cell_type": "code",
   "execution_count": 57,
   "id": "e9360c9c",
   "metadata": {},
   "outputs": [
    {
     "name": "stdout",
     "output_type": "stream",
     "text": [
      "To empower analysts to create and apply tags effectively, the system incorporated several key features and interfaces:\n",
      "\n",
      "1. **Dashboard Interface**: A user-friendly dashboard was developed where users could internally search and navigate through content. This interface allows analysts to easily find the articles they need and apply tags accordingly.\n",
      "\n",
      "2. **Search and Tagging Functionality**: Users have the ability to enter specific keywords or terms to find relevant articles and apply the appropriate tags. This streamlined the tagging process and made it highly accessible.\n",
      "\n",
      "3. **Rule Creation**: Analysts can use a combination of tags to create custom rules within the dashboard. This flexibility allows them to tailor the tagging process to meet their specific requirements.\n",
      "\n",
      "4. **Evented Rules**: The system captures user-created rules and evented them, which means that these rules can be processed efficiently in the background, allowing users to continue working without interruption.\n",
      "\n",
      "5. **Batch Processing**: A batch job takes all evented rules and applies them to the content assets. This feature ensures that tagging is handled systematically and can be done at scale, making it easier for analysts to manage large volumes of content.\n",
      "\n",
      "6. **Integration with Content Management**: The system saves the rules within the content management system, ensuring that analysts can rely on the system's tagging capabilities over time without needing to recreate rules.\n",
      "\n",
      "To ensure the system was user-friendly and adaptable to analysts' needs, emphasis was placed on creating an intuitive interface with minimal complexity, providing clear functionality for searching and tagging, and allowing for customization through rule creation, which caters to the varied requirements of different users.\n"
     ]
    }
   ],
   "source": [
    "question = \"What features or interfaces did you build to empower analysts to create and apply tags effectively? How did you ensure the system was user-friendly and adaptable to their needs?\"\n",
    "response = ask_single_question(question)\n",
    "print(response)"
   ]
  }
 ],
 "metadata": {
  "kernelspec": {
   "display_name": ".venv",
   "language": "python",
   "name": "python3"
  },
  "language_info": {
   "codemirror_mode": {
    "name": "ipython",
    "version": 3
   },
   "file_extension": ".py",
   "mimetype": "text/x-python",
   "name": "python",
   "nbconvert_exporter": "python",
   "pygments_lexer": "ipython3",
   "version": "3.10.9"
  }
 },
 "nbformat": 4,
 "nbformat_minor": 5
}
