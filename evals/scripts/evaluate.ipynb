{
 "cells": [
  {
   "cell_type": "code",
   "execution_count": 39,
   "id": "661dd9fe",
   "metadata": {},
   "outputs": [
    {
     "name": "stdout",
     "output_type": "stream",
     "text": [
      "The autoreload extension is already loaded. To reload it, use:\n",
      "  %reload_ext autoreload\n"
     ]
    }
   ],
   "source": [
    "%load_ext autoreload\n",
    "%autoreload 2"
   ]
  },
  {
   "cell_type": "code",
   "execution_count": 40,
   "id": "afd7e648",
   "metadata": {},
   "outputs": [],
   "source": [
    "import sys\n",
    "import os\n",
    "\n",
    "evals_dir = os.path.abspath(os.path.join(os.getcwd(), '../'))\n",
    "sys.path.insert(0, evals_dir)\n",
    "\n",
    "from eval_utils import *  # Import all functions from eval_utils\n",
    "from src.evaluator import Evaluator\n",
    "\n",
    "evaluator = Evaluator()"
   ]
  },
  {
   "cell_type": "code",
   "execution_count": 41,
   "id": "38986a01",
   "metadata": {},
   "outputs": [],
   "source": [
    "questions = [\n",
    "    \"Can you provide an example of how you resolved conflicts or drove consensus on technical decisions?\",\n",
    "    \"What principles or frameworks did you follow when designing the system architectures for evaluating AI agents?\",\n",
    "    \"What metrics or methodologies do you use to evaluate the performance and effectiveness of AI agents?\",\n",
    "    \"How do you ensure the evaluation process accounts for real-world variability and edge cases?\"]"
   ]
  },
  {
   "cell_type": "code",
   "execution_count": 163,
   "id": "2655f531",
   "metadata": {},
   "outputs": [],
   "source": [
    "question = \"Can you tell me about the Eric's code contributions to the recommendation models project in the past year?\""
   ]
  },
  {
   "cell_type": "code",
   "execution_count": 164,
   "id": "e9360c9c",
   "metadata": {},
   "outputs": [
    {
     "name": "stdout",
     "output_type": "stream",
     "text": [
      "In the past year, Eric Washington made significant contributions to the recommendation models project, specifically in two repositories:\n",
      "\n",
      "1. **rvo-sdapi-models**:\n",
      "   - Commits: 30\n",
      "   - Pull Requests: 30\n",
      "   - Total Code Changes: 2,645\n",
      "\n",
      "2. **tfe_databricks_datascience**:\n",
      "   - Commits: 30\n",
      "   - Pull Requests: 30\n",
      "   - Total Code Changes: 365\n",
      "\n",
      "Overall, Eric's contributions across all projects include:\n",
      "- Total Commits: 475\n",
      "- Total Pull Request Contributions: 208\n",
      "- Total Issue Contributions: 0\n",
      "\n",
      "These figures demonstrate Eric's active involvement in developing and improving the recommendation models over the past year.\n"
     ]
    }
   ],
   "source": [
    "response = ask_single_question(question)\n",
    "print(response)"
   ]
  },
  {
   "cell_type": "code",
   "execution_count": null,
   "id": "ce872f54",
   "metadata": {},
   "outputs": [],
   "source": []
  }
 ],
 "metadata": {
  "kernelspec": {
   "display_name": ".venv",
   "language": "python",
   "name": "python3"
  },
  "language_info": {
   "codemirror_mode": {
    "name": "ipython",
    "version": 3
   },
   "file_extension": ".py",
   "mimetype": "text/x-python",
   "name": "python",
   "nbconvert_exporter": "python",
   "pygments_lexer": "ipython3",
   "version": "3.10.9"
  }
 },
 "nbformat": 4,
 "nbformat_minor": 5
}
