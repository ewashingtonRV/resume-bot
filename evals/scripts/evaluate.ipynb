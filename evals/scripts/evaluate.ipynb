{
 "cells": [
  {
   "cell_type": "code",
   "execution_count": 69,
   "id": "661dd9fe",
   "metadata": {},
   "outputs": [],
   "source": [
    "%load_ext autoreload\n",
    "%autoreload 2"
   ]
  },
  {
   "cell_type": "code",
   "execution_count": 70,
   "id": "afd7e648",
   "metadata": {},
   "outputs": [],
   "source": [
    "import sys\n",
    "import os\n",
    "\n",
    "evals_dir = os.path.abspath(os.path.join(os.getcwd(), '../'))\n",
    "sys.path.insert(0, evals_dir)\n",
    "\n",
    "from eval_utils import *  # Import all functions from eval_utils\n",
    "from src.evaluator import Evaluator\n",
    "\n",
    "evaluator = Evaluator()"
   ]
  },
  {
   "cell_type": "code",
   "execution_count": 71,
   "id": "38986a01",
   "metadata": {},
   "outputs": [],
   "source": [
    "questions = [\n",
    "    \"Can you provide an example of how you resolved conflicts or drove consensus on technical decisions?\",\n",
    "    \"What principles or frameworks did you follow when designing the system architectures for evaluating AI agents?\",\n",
    "    \"What metrics or methodologies do you use to evaluate the performance and effectiveness of AI agents?\",\n",
    "    \"How do you ensure the evaluation process accounts for real-world variability and edge cases?\"]"
   ]
  },
  {
   "cell_type": "code",
   "execution_count": 75,
   "id": "26e15454",
   "metadata": {},
   "outputs": [],
   "source": [
    "api_base_url = \"http://localhost:8000\"\n",
    "\n",
    "messages = [\n",
    "    {\"role\": \"user\", \"content\": question},\n",
    "]\n",
    "# Prepare request\n",
    "payload = {\n",
    "    \"messages\": messages\n",
    "}\n",
    "response = requests.post(f\"{api_base_url}/chat\", json=payload)\n",
    "response_json = convert_response_string_to_json(response)"
   ]
  },
  {
   "cell_type": "code",
   "execution_count": 77,
   "id": "1916ebd4",
   "metadata": {},
   "outputs": [
    {
     "data": {
      "text/plain": [
       "{'detail': \"Error processing request: Missing some input keys: {'chat_history'}\"}"
      ]
     },
     "execution_count": 77,
     "metadata": {},
     "output_type": "execute_result"
    }
   ],
   "source": [
    "response.json()"
   ]
  },
  {
   "cell_type": "code",
   "execution_count": 90,
   "id": "e9360c9c",
   "metadata": {},
   "outputs": [
    {
     "name": "stdout",
     "output_type": "stream",
     "text": [
      "In the last 300 days, Eric Washington made a total of 454 commit contributions and 191 pull request contributions. He did not make any issue contributions.\n"
     ]
    }
   ],
   "source": [
    "question = \"What are Eric Washington's Github stats from the last 300 days?\"\n",
    "response = ask_single_question(question)\n",
    "print(response)"
   ]
  },
  {
   "cell_type": "code",
   "execution_count": null,
   "id": "ce872f54",
   "metadata": {},
   "outputs": [],
   "source": []
  }
 ],
 "metadata": {
  "kernelspec": {
   "display_name": ".venv",
   "language": "python",
   "name": "python3"
  },
  "language_info": {
   "codemirror_mode": {
    "name": "ipython",
    "version": 3
   },
   "file_extension": ".py",
   "mimetype": "text/x-python",
   "name": "python",
   "nbconvert_exporter": "python",
   "pygments_lexer": "ipython3",
   "version": "3.10.9"
  }
 },
 "nbformat": 4,
 "nbformat_minor": 5
}
