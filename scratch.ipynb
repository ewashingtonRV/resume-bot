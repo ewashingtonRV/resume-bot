{
 "cells": [
  {
   "cell_type": "code",
   "execution_count": 1,
   "metadata": {},
   "outputs": [
    {
     "data": {
      "text/plain": [
       "True"
      ]
     },
     "execution_count": 1,
     "metadata": {},
     "output_type": "execute_result"
    }
   ],
   "source": [
    "from typing import Annotated\n",
    "from langgraph.graph import StateGraph, START, END\n",
    "from langgraph.graph.message import add_messages\n",
    "from dotenv import load_dotenv\n",
    "from IPython.display import Image, display\n",
    "from langgraph.graph import StateGraph\n",
    "from langgraph.graph.message import add_messages\n",
    "from langchain_openai import ChatOpenAI\n",
    "from pydantic import BaseModel\n",
    "from IPython.display import Markdown, display\n",
    "from langchain.schema import SystemMessage, HumanMessage, AIMessage\n",
    "\n",
    "\n",
    "import os\n",
    "load_dotenv(override=True)\n"
   ]
  },
  {
   "cell_type": "code",
   "execution_count": 2,
   "metadata": {},
   "outputs": [],
   "source": [
    "from langgraph.graph import StateGraph, START, END\n",
    "import logging\n",
    "from src.state import State\n",
    "from langgraph.checkpoint.memory import MemorySaver\n",
    "from src.nodes import IntentClassificationNode, QuestionAnsweringNode\n",
    "\n",
    "# Set up Graph Builder with State\n",
    "graph_builder = StateGraph(State)\n",
    "\n",
    "# Add nodes\n",
    "graph_builder.add_node(\"intent_classification\", IntentClassificationNode())\n",
    "graph_builder.add_node(\"question_answering\", QuestionAnsweringNode())\n",
    "# Set entry point\n",
    "graph_builder.add_edge(START, \"intent_classification\")\n",
    "graph_builder.add_edge(\"intent_classification\", \"question_answering\")\n",
    "graph_builder.add_edge(\"question_answering\", END)\n",
    "\n",
    "\n",
    "\n",
    "# Compile the graph\n",
    "memory = MemorySaver()\n",
    "graph = graph_builder.compile(checkpointer=memory)"
   ]
  },
  {
   "cell_type": "code",
   "execution_count": 3,
   "metadata": {},
   "outputs": [
    {
     "data": {
      "image/png": "[encoded data removed]",
      "text/plain": [
       "<IPython.core.display.Image object>"
      ]
     },
     "metadata": {},
     "output_type": "display_data"
    }
   ],
   "source": [
    "# Step 5: Compile the Graph\n",
    "graph = graph_builder.compile()\n",
    "display(Image(graph.get_graph().draw_mermaid_png()))"
   ]
  },
  {
   "cell_type": "code",
   "execution_count": 4,
   "metadata": {},
   "outputs": [
    {
     "data": {
      "text/plain": [
       "AIMessage(content=\"I don't have a specific decision engine that I built, but I can provide information about decision engines in general. A decision engine typically refers to a system or software that uses algorithms to make decisions based on data inputs. These engines can analyze vast amounts of information to provide recommendations or automate decision-making processes in areas like finance, e-commerce, marketing, and healthcare.\\n\\nKey features often include:\\n\\n1. **Data Handling**: The ability to process and analyze data from various sources.\\n2. **Algorithms**: Implementation of machine learning, statistical models, or business rules to generate decisions.\\n3. **Integration**: The capability to connect with other systems, databases, or APIs to fetch real-time data.\\n4. **User Interface**: A dashboard or UI that allows users to interact with the engine and understand its outputs.\\n\\nIf you have a specific context or type of decision engine in mind, feel free to ask!\", additional_kwargs={}, response_metadata={})"
      ]
     },
     "execution_count": 4,
     "metadata": {},
     "output_type": "execute_result"
    }
   ],
   "source": [
    "from langchain_core.messages import HumanMessage\n",
    "\n",
    "questions = [\n",
    "    \"Can you tell me about the decision engine that you built?\",\n",
    "]\n",
    "\n",
    "messages = [HumanMessage(content=questions[0])]\n",
    "# Create proper initial state with all required fields\n",
    "initial_state = {\n",
    "    \"messages\": messages,\n",
    "}\n",
    "\n",
    "result = graph.invoke(initial_state)\n",
    "\n",
    "response = result[\"messages\"][-1]\n",
    "response\n",
    "\n"
   ]
  },
  {
   "cell_type": "code",
   "execution_count": 11,
   "metadata": {},
   "outputs": [
    {
     "data": {
      "text/plain": [
       "{'messages': [HumanMessage(content='Can you tell me about the recommendation model you built?', additional_kwargs={}, response_metadata={}),\n",
       "  AIMessage(content=\"The reference text describes the Supervised Decision API (S-DAPI), which is a recommendation engine designed to optimize user engagement by personalizing website experiences toward specific goals, such as increasing clicks or revenue per view. \\n\\nHere's a summary of how S-DAPI works:\\n\\n1. **Data Collection**: Initially, S-DAPI serves all available assets randomly to collect data on user interactions.\\n\\n2. **Thompson Sampling**: After gathering enough data, it starts optimizing for the best-performing asset using Thompson Sampling, a Bayesian approach to decision-making.\\n\\n3. **Personalization with Machine Learning**: Once the optimization process is established, S-DAPI introduces a machine learning model that personalizes ad placements based on user data, content tags, and other contextual information.\\n\\n4. **Recalibration**: If the personalized model performs well, S-DAPI increases the frequency of personalized ads. However, if confidence in the personalized model declines, it recalibrates to test the best asset again, ensuring it never performs worse than traditional A/B testing.\\n\\n5. **Training Methodology**: To handle the typically low reward rates, the training process includes all positive reward observations and randomly samples from non-reward observations, balancing the dataset for effective model training.\\n\\nThe output from the S-DAPI model typically includes the selected option and predicted values, helping to make informed decisions on which ads to display to maximize user engagement.\\n\\nIf you have specific aspects of the model you would like to delve into further, please let me know!\", additional_kwargs={}, response_metadata={})],\n",
       " 'next': 'end',\n",
       " 'intent': 'recommendation model question'}"
      ]
     },
     "execution_count": 11,
     "metadata": {},
     "output_type": "execute_result"
    }
   ],
   "source": [
    "result"
   ]
  },
  {
   "cell_type": "code",
   "execution_count": 23,
   "metadata": {},
   "outputs": [
    {
     "name": "stdout",
     "output_type": "stream",
     "text": [
      "IntentClassificationNode: Processing state with keys: dict_keys(['messages', 'next', 'intent'])\n",
      "IntentClassificationNode: Last message: Can you tell me more about the AI-generated content tags used in the recommendation model?\n",
      "IntentClassificationNode: Classified intent: recommendation model question\n",
      "IntentClassificationNode: Next node: question_answering\n",
      "QuestionAnsweringNode: Processing state with keys: dict_keys(['messages', 'next', 'intent'])\n",
      "QuestionAnsweringNode: Intent: recommendation model question\n",
      "QuestionAnsweringNode: Generated answer of length 841\n"
     ]
    },
    {
     "data": {
      "text/plain": [
       "AIMessage(content=\"The reference text does not provide detailed information specifically about the AI-generated content tags used in the recommendation model (S-DAPI). However, it does mention that these tags are part of the inputs that help the model determine the optimal driver (advertisement) to show to a visitor. \\n\\nIn general, AI-generated content tags are likely to include information extracted from the content itself, which may help in understanding the context and relevance of a webpage or advertisement to a user's preferences. These tags might involve techniques such as hierarchical clustering and named entity recognition (NER) to delineate and categorize different aspects of the content that could be relevant for personalization.\\n\\nIf you need specific details beyond the provided reference text, please let me know, and I can assist further!\", additional_kwargs={}, response_metadata={})"
      ]
     },
     "execution_count": 23,
     "metadata": {},
     "output_type": "execute_result"
    }
   ],
   "source": [
    "messages.append(response)\n",
    "user_query = \"Can you tell me if the model increased user engagement?\"\n",
    "messages.append(HumanMessage(content=user_query))\n",
    "\n",
    "state = {\n",
    "    \"messages\": messages,\n",
    "}\n",
    "\n",
    "result = graph.invoke(state)\n",
    "\n",
    "response = result[\"messages\"][-1]\n",
    "response\n"
   ]
  },
  {
   "cell_type": "code",
   "execution_count": 75,
   "metadata": {},
   "outputs": [],
   "source": [
    "\n",
    "class State(BaseModel):\n",
    "\n",
    "    messages: Annotated[list, add_messages]\n"
   ]
  },
  {
   "cell_type": "code",
   "execution_count": 76,
   "metadata": {},
   "outputs": [],
   "source": [
    "graph_builder = StateGraph(State)"
   ]
  },
  {
   "cell_type": "code",
   "execution_count": 77,
   "metadata": {},
   "outputs": [
    {
     "data": {
      "text/plain": [
       "<langgraph.graph.state.StateGraph at 0x120666260>"
      ]
     },
     "execution_count": 77,
     "metadata": {},
     "output_type": "execute_result"
    }
   ],
   "source": [
    "def our_first_node(old_state: State) -> State:\n",
    "\n",
    "    reply = f\"{random.choice(nouns)} are {random.choice(adjectives)}\"\n",
    "    messages = [{\"role\": \"assistant\", \"content\": reply}]\n",
    "\n",
    "    new_state = State(messages=messages)\n",
    "\n",
    "    return new_state\n",
    "\n",
    "graph_builder.add_node(\"first_node\", our_first_node)"
   ]
  },
  {
   "cell_type": "code",
   "execution_count": 78,
   "metadata": {},
   "outputs": [
    {
     "data": {
      "text/plain": [
       "<langgraph.graph.state.StateGraph at 0x120666260>"
      ]
     },
     "execution_count": 78,
     "metadata": {},
     "output_type": "execute_result"
    }
   ],
   "source": [
    "graph_builder.add_edge(START, \"first_node\")\n",
    "graph_builder.add_edge(\"first_node\", END)"
   ]
  },
  {
   "cell_type": "code",
   "execution_count": 80,
   "metadata": {},
   "outputs": [
    {
     "data": {
      "image/png": "[encoded data removed]",
      "text/plain": [
       "<IPython.core.display.Image object>"
      ]
     },
     "metadata": {},
     "output_type": "display_data"
    }
   ],
   "source": [
    "graph = graph_builder.compile()\n",
    "display(Image(graph.get_graph().draw_mermaid_png()))"
   ]
  },
  {
   "cell_type": "code",
   "execution_count": 34,
   "metadata": {},
   "outputs": [
    {
     "name": "stdout",
     "output_type": "stream",
     "text": [
      "# rvo-sdapi-models\n",
      "Supervised Decision API (SDAPI) is a decision engine that leverages Make user data and AI generated content tags to determine the best ad. The model aims to both increase user engagement (e.g. clicks, views, purchases, etc.) and to reduce the manual effort needed to test and target Mario drivers. \n",
      "\n",
      "## Run notebooks / jobs\n",
      "-  Train jobs / notebooks require:\n",
      "    - Databricks runtime 15.4.15 ML\n",
      "-  Deploy jobs / notebooks require:\n",
      "    - Databricks runtime 11.3.55 ML\n",
      "    - Install: dbfs:/Libraries/Python/model-registry-python/model_registry_python-v1.2.7-py3-none-any.whl\n",
      "\n",
      "2. Register a client with `Model Registry-prod (PROD)`, `Jarvis API-prod (PROD)`, and `Jarvis API-dev (DEV) in Pontifex to be able to acquire a bearer token.\n",
      "\n",
      "## Sample request data\n",
      "- Sample input request\n",
      "   ```json\n",
      "    [\n",
      "    {\n",
      "        \"key\": \"anonymousId\",\n",
      "        \"value\": \"b51099ff-e704-4dc9-9a08-1fb2a5accd76\"\n",
      "    },\n",
      "    {\n",
      "        \"key\": \"context\",\n",
      "        \"value\": \"{\\\"audiences\\\":[],\\\"day_of_week\\\":\\\"Tuesday\\\",\\\"desktop\\\":false,\\\"geo_lat\\\":40.0992,\\\"geo_long\\\":-83.1141,\\\"hour\\\":1,\\\"instance_id\\\":\\\"25790f17-49ed-4a35-8d7b-f0924b2c3e7f\\\",\\\"url\\\":\\\"https://now.optum.com/shop?utm_source=promotion\\\\u0026utm_medium=myuhc\\\\u0026utm_term=\\\\u0026utm_content=optum-store-myuhc-hsa-balance-page\\\\u0026utm_campaign=storewide-promo\\\\u0026utm_nooverride=1\\\",\\\"url_referrer\\\":\\\"\\\"}\"\n",
      "    },\n",
      "    {\n",
      "        \"key\": \"holdout\",\n",
      "        \"value\": \"15wGfKvzLkf29pY00y3nZL\"\n",
      "    },\n",
      "    {\n",
      "        \"key\": \"id\",\n",
      "        \"value\": \"req_35cd1108-174d-4bd6-a950-1786e05b5f09\"\n",
      "    },\n",
      "    {\n",
      "        \"key\": \"instanceId\",\n",
      "        \"value\": \"25790f17-49ed-4a35-8d7b-f0924b2c3e7f\"\n",
      "    },\n",
      "    {\n",
      "        \"key\": \"options\",\n",
      "        \"value\": \"{\\\"15wGfKvzLkf29pY00y3nZL\\\":{},\\\"43Er4K6U5nINcDpqs8C0lz\\\":{},\\\"50dlsXuPUsFgqCFNQWWp1Y\\\":{},\\\"7nmXYgfB0Y9RsNjsvKkYHx\\\":{},\\\"zKS61uMGSrxucLoevn4xJ\\\":{}}\"\n",
      "    },\n",
      "    {\n",
      "        \"key\": \"sessionId\",\n",
      "        \"value\": \"7fbd2ac0-4818-4ac2-bf19-b56f81d28cd6\"\n",
      "    }\n",
      "    ]\n",
      "   ```\n",
      "\n",
      "- Sample output\n",
      "   ```json\n",
      "   [\n",
      "    {\n",
      "        \"key\": \"output\",\n",
      "        \"value\": \"{\\\"dice_decision\\\":\\\"ts_model\\\",\\\"model_type\\\":\\\"NA\\\",\\\"model_version\\\":5,\\\"option\\\":\\\"43Er4K6U5nINcDpqs8C0lz\\\",\\\"option_predicted_values\\\":[{\\\"predicted_reward\\\":0.006962070624737352,\\\"selected_option\\\":\\\"15wGfKvzLkf29pY00y3nZL\\\"},{\\\"predicted_reward\\\":0.00918130237673443,\\\"selected_option\\\":\\\"43Er4K6U5nINcDpqs8C0lz\\\"},{\\\"predicted_reward\\\":0.006460325149096409,\\\"selected_option\\\":\\\"50dlsXuPUsFgqCFNQWWp1Y\\\"},{\\\"predicted_reward\\\":0.0077093961126640555,\\\"selected_option\\\":\\\"7nmXYgfB0Y9RsNjsvKkYHx\\\"},{\\\"predicted_reward\\\":0.0069403018616342495,\\\"selected_option\\\":\\\"zKS61uMGSrxucLoevn4xJ\\\"}],\\\"rev_decision\\\":\\\"false\\\",\\\"selected_option_features\\\":{\\\"decision_rpc\\\":0},\\\"selected_option_predicted_reward\\\":0.00918130237673443}\"\n",
      "    }\n",
      "    ]\n",
      "   ```\n",
      "## References\n",
      "- [Confluence Documentation](https://rvohealth.atlassian.net/wiki/spaces/DHD/pages/327188599/S-DAPI)\n",
      "- [SDAPI Case Study](https://docs.google.com/document/d/1o7g-VQ8iR47PPHBDQ_5F212bCoKgzUu2Ajpvo1z55ew/edit?tab=t.0)\n",
      "\n",
      "\n",
      "# Supervised Decision API (S-DAPI)\n",
      "\n",
      "This page describes our Supervised Decision API, which is better known as S-DAPI.\n",
      "\n",
      "## What is S-DAPI?\n",
      "\n",
      "S-DAPI is a decision engine that can be used to personalize website experiences toward a specific goal, such as clicks or revenue per view. Under the hood, S-DAPI leverages make user data, AI-generated content tags, and Mario’s asset data to help determine the optimal driver to show a visitor.\n",
      "\n",
      "The goal of S-DAPI is to: \n",
      "\n",
      "- Increase user engagement through personalization and multi-arm bandit testing\n",
      "- Reduce the manual effort needed to target users and test drivers\n",
      "\n",
      "## How does the S-DAPI algorithm work?\n",
      "\n",
      "### Summary\n",
      "\n",
      "S-DAPI essentially entails the four stages described by the bulleted list and graph below:\n",
      "\n",
      "1. S-DAPI starts randomly.\n",
      "2. Then S-DAPI starts optimizing for the single overall-best asset using Thompson Sampling.\n",
      "3. And finally, starts personalization using machine learning models.\n",
      "\n",
      "The personalized model is treated as another arm in the bandit. S-DAPI calibrates how often to use the ML model via Thompson Sampling.  S-DAPI’s recalibration feature ensures that it will never converge to a worse solution than an A/B test would conclude.\n",
      "\n",
      "### Explore / Exploit Algorithm\n",
      "\n",
      "S-DAPI starts by serving all assets randomly to collect data, but then largely transitions to optimize for the single best asset using Thompson Sampling. Once S-DAPI has collected enough data, it introduces a ML model to show personalized ads based on user data and content tags. If the personalized model performs well, S-DAPI begins to show personalized ads more frequently. If S-DAPI’s confidence in the personalized model wanes, it automatically recalibrates to test the single overall-best asset again. S-DAPI’s recalibration feature ensures that it will never perform worse than an A/B test long-term while maintaining the upside for personalization and removing the manual effort traditionally needed to monitor A/B tests.\n",
      "\n",
      "### Supervised Model\n",
      "\n",
      "The personalized model alluded to earlier is really a stacked model of four different classification models. All of the models include the same inputs:\n",
      "\n",
      "- Geo location\n",
      "- Time of visit\n",
      "- Make audiences\n",
      "- Odysseus propensity scores\n",
      "- Content tags\n",
      "\n",
      "Because of the high number of tags, we use target encoding to reduce dimensionality and make it easier to capture interactions between content and drivers.\n",
      "\n",
      "#### Context Similarity\n",
      "\n",
      "We embed and calculate the similarity between the title of the page being viewed and the body copy/description of the driver.\n",
      "\n",
      "### Training Methodology\n",
      "\n",
      "To address reward imbalance (typically <1%) and optimize computational resources, the training process:\n",
      "1. Includes all positive reward observations\n",
      "2. Randomly samples non-reward observations\n",
      "3. Balances the dataset for effective model training\n",
      "\n",
      "Given that reward rates are usually below 1%, we downsample our data to handle the reward imbalance and, most importantly, to reduce the compute needed for our training jobs. More specifically, our training data includes all observations with a positive reward, and then randomly sampled observations that did not end with a reward.\n",
      "\n",
      "Below is a sample of how the training data looks.\n",
      "\n",
      "### Scoring/Predicting\n",
      "\n",
      "S-DAPI agents are deployed via the Jarvis/Monarch integration, and requests are typically sent via Mario. Each S-DAPI request includes an object of driver/options for the model to choose between, in addition to the user and content data received. When the model receives options that are not in its training data, S-DAPI will randomly serve those assets a percentage of the time (100% if all the assets are new). \n",
      "\n",
      "Otherwise, the model will use Thompson Sampling to decide what action to take. If the model decides to try personalization, the supervised model predicts the probability of reward for each eligible driver given the input information on the user and content. The asset with the highest estimated probability of reward is returned to the requesting entityw.\n",
      "\n",
      "For revenue-optimized agents, the model returns the asset with the highest output estimated from multiplying the probability of reward by the estimated revenue per click, which can either be hardcoded by the user or queried from historical data.\n",
      "\n",
      "### Deployment\n",
      "\n",
      "S-DAPI is a FastAPI hosted in ECS with a single endpoint.  \n",
      "\n",
      "1. Analysts configure new agents in Mario with:\n",
      "   - Model name\n",
      "   - Targeting logic\n",
      "   - Eligible assets\n",
      "2. API receives requests containing:\n",
      "   - User ID\n",
      "   - URL\n",
      "   - Device information\n",
      "   - Model name\n",
      "3. Separate models are trained for each model name\n",
      "4. New model names trigger random serving until sufficient training data is collected\n"
     ]
    }
   ],
   "source": [
    "class MarkdownReader:\n",
    "    def __init__(self, directory_path: str):\n",
    "        self.directory_path = directory_path\n",
    "        if not os.path.exists(directory_path):\n",
    "            raise ValueError(f\"Directory {directory_path} does not exist\")\n",
    "\n",
    "    def read_markdown_files(self) -> str:\n",
    "        \"\"\"\n",
    "        Reads all markdown files in the specified directory and combines their content.\n",
    "        \n",
    "        Returns:\n",
    "            str: Combined content of all markdown files\n",
    "        \"\"\"\n",
    "        combined_content = []\n",
    "        \n",
    "        for filename in os.listdir(self.directory_path):\n",
    "            if filename.endswith(('.md', '.markdown')):\n",
    "                file_path = os.path.join(self.directory_path, filename)\n",
    "                try:\n",
    "                    with open(file_path, 'r', encoding='utf-8') as f:\n",
    "                        content = f.read()\n",
    "                        combined_content.append(content)\n",
    "                except Exception as e:\n",
    "                    print(f\"Error reading file {filename}: {str(e)}\")\n",
    "        return '\\n\\n'.join(combined_content)\n",
    "    \n",
    "mr = MarkdownReader(directory_path='./data/projects/decision-api')\n",
    "content = mr.read_markdown_files()\n",
    "print(content)"
   ]
  },
  {
   "cell_type": "code",
   "execution_count": 35,
   "metadata": {},
   "outputs": [],
   "source": [
    "class RecommendationWorkAgent:\n",
    "    def __init__(self, \n",
    "                 system_prompt,\n",
    "                 model_name=\"gpt-4o-mini\"):\n",
    "        self.reader = MarkdownReader('./data/projects/decision-api')\n",
    "        self.content = self.reader.read_markdown_files()\n",
    "        self.system_prompt = system_prompt\n",
    "        self.llm = ChatOpenAI(model=model_name)\n",
    "        self.message_list = None\n",
    "        \n",
    "    def init_message_list(self, user_query: str) -> list:\n",
    "        self.message_list = [\n",
    "            SystemMessage(content=self.system_prompt),\n",
    "            HumanMessage(content=user_query),\n",
    "            ]\n",
    "    \n",
    "    def answer_question(self, user_query: str) -> str:\n",
    "        \"\"\"\n",
    "        Answers user questions about recommendation model projects.\n",
    "        \n",
    "        Args:\n",
    "            user_query (str): The user's question\n",
    "            \n",
    "        Returns:\n",
    "            str: Response based on the content\n",
    "        \"\"\"\n",
    "        if self.message_list is None:\n",
    "            self.init_message_list(user_query)\n",
    "        response = self.llm.invoke(self.message_list)\n",
    "        self.message_list.append(AIMessage(content=response.content))\n",
    "        return response.content"
   ]
  },
  {
   "cell_type": "code",
   "execution_count": 61,
   "metadata": {},
   "outputs": [],
   "source": [
    "system_prompt_template = \"\"\"You are an expert at building recommendation engines using contextual bandit models.\n",
    "    When responding to a user, you should use the reference text and chat history to guide your response.\n",
    "    Please tell the user when you are basing your answer on information that is not in the reference text.\n",
    "    Please read the query, reference text, and response history carefully before determining your response.\n",
    "    The reference text is provided below:\n",
    "    [BEGIN DATA]\n",
    "    ************\n",
    "    [Reference text]: {reference_text}\n",
    "    ************\n",
    "    [END DATA]\n",
    "    \"\"\"\n",
    "system_prompt = system_prompt_template.format(reference_text=content)\n",
    "user_query = \"Can you explain how the model handles the explore / exploit trade off\"\n",
    "messages_list = [\n",
    "    SystemMessage(content=system_prompt),\n",
    "    HumanMessage(content=user_query),\n",
    "    ]\n"
   ]
  },
  {
   "cell_type": "code",
   "execution_count": 62,
   "metadata": {},
   "outputs": [
    {
     "data": {
      "text/markdown": [
       "The model handles the explore/exploit trade-off through a systematic approach involving Thompson Sampling. Here’s a summary of how it works:\n",
       "\n",
       "1. **Initial Exploration**: S-DAPI starts by randomly serving all available assets to collect data. This helps in understanding which assets might perform better in terms of user engagement (e.g., clicks, purchases).\n",
       "\n",
       "2. **Optimizing for Best Asset**: After collecting sufficient data, S-DAPI transitions to optimizing for the single overall-best asset using Thompson Sampling. This statistical method allows the model to balance exploration (testing out different options) and exploitation (choosing the best-performing option based on current data).\n",
       "\n",
       "3. **Introducing Personalization**: Once enough data is gathered, S-DAPI introduces a machine learning model to show personalized ads based on user data and content tags. This personalized model is treated as an additional arm in the bandit framework.\n",
       "\n",
       "4. **Dynamic Calibration**: S-DAPI continuously calibrates how often to use the machine learning model compared to the best asset found so far. If the personalized model demonstrates strong performance, it starts to serve personalized ads more frequently. Conversely, if confidence in the model decreases, S-DAPI recalibrates to prioritize testing the best overall asset again.\n",
       "\n",
       "5. **Avoiding Poor Performance**: S-DAPI's recalibration feature ensures that it never converges to a solution that performs worse than a traditional A/B test would conclude. This approach preserves the balance between exploring new options and exploiting known successful assets over time.\n",
       "\n",
       "This strategy enables S-DAPI to personalize user experiences effectively while minimizing the manual effort typically needed for monitoring A/B tests."
      ],
      "text/plain": [
       "<IPython.core.display.Markdown object>"
      ]
     },
     "metadata": {},
     "output_type": "display_data"
    }
   ],
   "source": [
    "llm = ChatOpenAI(model=\"gpt-4o-mini\")\n",
    "response = llm.invoke(messages_list)\n",
    "display(Markdown(response.content))"
   ]
  },
  {
   "cell_type": "code",
   "execution_count": 63,
   "metadata": {},
   "outputs": [
    {
     "data": {
      "text/plain": [
       "[SystemMessage(content='You are an expert at building recommendation engines using contextual bandit models.\\n    When responding to a user, you should use the reference text and chat history to guide your response.\\n    Please tell the user when you are basing your answer on iformation that is not in the reference text.\\n    Please read the query, reference text, and response history carefully before determining your response.\\n    The reference text is provided below:\\n    [BEGIN DATA]\\n    ************\\n    [Reference text]: # rvo-sdapi-models\\nSupervised Decision API (SDAPI) is a decision engine that leverages Make user data and AI generated content tags to determine the best ad. The model aims to both increase user engagement (e.g. clicks, views, purchases, etc.) and to reduce the manual effort needed to test and target Mario drivers. \\n\\n## Run notebooks / jobs\\n-  Train jobs / notebooks require:\\n    - Databricks runtime 15.4.15 ML\\n-  Deploy jobs / notebooks require:\\n    - Databricks runtime 11.3.55 ML\\n    - Install: dbfs:/Libraries/Python/model-registry-python/model_registry_python-v1.2.7-py3-none-any.whl\\n\\n2. Register a client with `Model Registry-prod (PROD)`, `Jarvis API-prod (PROD)`, and `Jarvis API-dev (DEV) in Pontifex to be able to acquire a bearer token.\\n\\n## Sample request data\\n- Sample input request\\n   ```json\\n    [\\n    {\\n        \"key\": \"anonymousId\",\\n        \"value\": \"b51099ff-e704-4dc9-9a08-1fb2a5accd76\"\\n    },\\n    {\\n        \"key\": \"context\",\\n        \"value\": \"{\\\\\"audiences\\\\\":[],\\\\\"day_of_week\\\\\":\\\\\"Tuesday\\\\\",\\\\\"desktop\\\\\":false,\\\\\"geo_lat\\\\\":40.0992,\\\\\"geo_long\\\\\":-83.1141,\\\\\"hour\\\\\":1,\\\\\"instance_id\\\\\":\\\\\"25790f17-49ed-4a35-8d7b-f0924b2c3e7f\\\\\",\\\\\"url\\\\\":\\\\\"https://now.optum.com/shop?utm_source=promotion\\\\\\\\u0026utm_medium=myuhc\\\\\\\\u0026utm_term=\\\\\\\\u0026utm_content=optum-store-myuhc-hsa-balance-page\\\\\\\\u0026utm_campaign=storewide-promo\\\\\\\\u0026utm_nooverride=1\\\\\",\\\\\"url_referrer\\\\\":\\\\\"\\\\\"}\"\\n    },\\n    {\\n        \"key\": \"holdout\",\\n        \"value\": \"15wGfKvzLkf29pY00y3nZL\"\\n    },\\n    {\\n        \"key\": \"id\",\\n        \"value\": \"req_35cd1108-174d-4bd6-a950-1786e05b5f09\"\\n    },\\n    {\\n        \"key\": \"instanceId\",\\n        \"value\": \"25790f17-49ed-4a35-8d7b-f0924b2c3e7f\"\\n    },\\n    {\\n        \"key\": \"options\",\\n        \"value\": \"{\\\\\"15wGfKvzLkf29pY00y3nZL\\\\\":{},\\\\\"43Er4K6U5nINcDpqs8C0lz\\\\\":{},\\\\\"50dlsXuPUsFgqCFNQWWp1Y\\\\\":{},\\\\\"7nmXYgfB0Y9RsNjsvKkYHx\\\\\":{},\\\\\"zKS61uMGSrxucLoevn4xJ\\\\\":{}}\"\\n    },\\n    {\\n        \"key\": \"sessionId\",\\n        \"value\": \"7fbd2ac0-4818-4ac2-bf19-b56f81d28cd6\"\\n    }\\n    ]\\n   ```\\n\\n- Sample output\\n   ```json\\n   [\\n    {\\n        \"key\": \"output\",\\n        \"value\": \"{\\\\\"dice_decision\\\\\":\\\\\"ts_model\\\\\",\\\\\"model_type\\\\\":\\\\\"NA\\\\\",\\\\\"model_version\\\\\":5,\\\\\"option\\\\\":\\\\\"43Er4K6U5nINcDpqs8C0lz\\\\\",\\\\\"option_predicted_values\\\\\":[{\\\\\"predicted_reward\\\\\":0.006962070624737352,\\\\\"selected_option\\\\\":\\\\\"15wGfKvzLkf29pY00y3nZL\\\\\"},{\\\\\"predicted_reward\\\\\":0.00918130237673443,\\\\\"selected_option\\\\\":\\\\\"43Er4K6U5nINcDpqs8C0lz\\\\\"},{\\\\\"predicted_reward\\\\\":0.006460325149096409,\\\\\"selected_option\\\\\":\\\\\"50dlsXuPUsFgqCFNQWWp1Y\\\\\"},{\\\\\"predicted_reward\\\\\":0.0077093961126640555,\\\\\"selected_option\\\\\":\\\\\"7nmXYgfB0Y9RsNjsvKkYHx\\\\\"},{\\\\\"predicted_reward\\\\\":0.0069403018616342495,\\\\\"selected_option\\\\\":\\\\\"zKS61uMGSrxucLoevn4xJ\\\\\"}],\\\\\"rev_decision\\\\\":\\\\\"false\\\\\",\\\\\"selected_option_features\\\\\":{\\\\\"decision_rpc\\\\\":0},\\\\\"selected_option_predicted_reward\\\\\":0.00918130237673443}\"\\n    }\\n    ]\\n   ```\\n## References\\n- [Confluence Documentation](https://rvohealth.atlassian.net/wiki/spaces/DHD/pages/327188599/S-DAPI)\\n- [SDAPI Case Study](https://docs.google.com/document/d/1o7g-VQ8iR47PPHBDQ_5F212bCoKgzUu2Ajpvo1z55ew/edit?tab=t.0)\\n\\n\\n# Supervised Decision API (S-DAPI)\\n\\nThis page describes our Supervised Decision API, which is better known as S-DAPI.\\n\\n## What is S-DAPI?\\n\\nS-DAPI is a decision engine that can be used to personalize website experiences toward a specific goal, such as clicks or revenue per view. Under the hood, S-DAPI leverages make user data, AI-generated content tags, and Mario’s asset data to help determine the optimal driver to show a visitor.\\n\\nThe goal of S-DAPI is to: \\n\\n- Increase user engagement through personalization and multi-arm bandit testing\\n- Reduce the manual effort needed to target users and test drivers\\n\\n## How does the S-DAPI algorithm work?\\n\\n### Summary\\n\\nS-DAPI essentially entails the four stages described by the bulleted list and graph below:\\n\\n1. S-DAPI starts randomly.\\n2. Then S-DAPI starts optimizing for the single overall-best asset using Thompson Sampling.\\n3. And finally, starts personalization using machine learning models.\\n\\nThe personalized model is treated as another arm in the bandit. S-DAPI calibrates how often to use the ML model via Thompson Sampling.  S-DAPI’s recalibration feature ensures that it will never converge to a worse solution than an A/B test would conclude.\\n\\n### Explore / Exploit Algorithm\\n\\nS-DAPI starts by serving all assets randomly to collect data, but then largely transitions to optimize for the single best asset using Thompson Sampling. Once S-DAPI has collected enough data, it introduces a ML model to show personalized ads based on user data and content tags. If the personalized model performs well, S-DAPI begins to show personalized ads more frequently. If S-DAPI’s confidence in the personalized model wanes, it automatically recalibrates to test the single overall-best asset again. S-DAPI’s recalibration feature ensures that it will never perform worse than an A/B test long-term while maintaining the upside for personalization and removing the manual effort traditionally needed to monitor A/B tests.\\n\\n### Supervised Model\\n\\nThe personalized model alluded to earlier is really a stacked model of four different classification models. All of the models include the same inputs:\\n\\n- Geo location\\n- Time of visit\\n- Make audiences\\n- Odysseus propensity scores\\n- Content tags\\n\\nBecause of the high number of tags, we use target encoding to reduce dimensionality and make it easier to capture interactions between content and drivers.\\n\\n#### Context Similarity\\n\\nWe embed and calculate the similarity between the title of the page being viewed and the body copy/description of the driver.\\n\\n### Training Methodology\\n\\nTo address reward imbalance (typically <1%) and optimize computational resources, the training process:\\n1. Includes all positive reward observations\\n2. Randomly samples non-reward observations\\n3. Balances the dataset for effective model training\\n\\nGiven that reward rates are usually below 1%, we downsample our data to handle the reward imbalance and, most importantly, to reduce the compute needed for our training jobs. More specifically, our training data includes all observations with a positive reward, and then randomly sampled observations that did not end with a reward.\\n\\nBelow is a sample of how the training data looks.\\n\\n### Scoring/Predicting\\n\\nS-DAPI agents are deployed via the Jarvis/Monarch integration, and requests are typically sent via Mario. Each S-DAPI request includes an object of driver/options for the model to choose between, in addition to the user and content data received. When the model receives options that are not in its training data, S-DAPI will randomly serve those assets a percentage of the time (100% if all the assets are new). \\n\\nOtherwise, the model will use Thompson Sampling to decide what action to take. If the model decides to try personalization, the supervised model predicts the probability of reward for each eligible driver given the input information on the user and content. The asset with the highest estimated probability of reward is returned to the requesting entityw.\\n\\nFor revenue-optimized agents, the model returns the asset with the highest output estimated from multiplying the probability of reward by the estimated revenue per click, which can either be hardcoded by the user or queried from historical data.\\n\\n### Deployment\\n\\nS-DAPI is a FastAPI hosted in ECS with a single endpoint.  \\n\\n1. Analysts configure new agents in Mario with:\\n   - Model name\\n   - Targeting logic\\n   - Eligible assets\\n2. API receives requests containing:\\n   - User ID\\n   - URL\\n   - Device information\\n   - Model name\\n3. Separate models are trained for each model name\\n4. New model names trigger random serving until sufficient training data is collected\\n    ************\\n    [END DATA]\\n    ', additional_kwargs={}, response_metadata={}),\n",
       " HumanMessage(content='Can you explain how the model handles the explore / exploit trade off', additional_kwargs={}, response_metadata={}),\n",
       " AIMessage(content=\"The model handles the explore/exploit trade-off through a systematic approach involving Thompson Sampling. Here’s a summary of how it works:\\n\\n1. **Initial Exploration**: S-DAPI starts by randomly serving all available assets to collect data. This helps in understanding which assets might perform better in terms of user engagement (e.g., clicks, purchases).\\n\\n2. **Optimizing for Best Asset**: After collecting sufficient data, S-DAPI transitions to optimizing for the single overall-best asset using Thompson Sampling. This statistical method allows the model to balance exploration (testing out different options) and exploitation (choosing the best-performing option based on current data).\\n\\n3. **Introducing Personalization**: Once enough data is gathered, S-DAPI introduces a machine learning model to show personalized ads based on user data and content tags. This personalized model is treated as an additional arm in the bandit framework.\\n\\n4. **Dynamic Calibration**: S-DAPI continuously calibrates how often to use the machine learning model compared to the best asset found so far. If the personalized model demonstrates strong performance, it starts to serve personalized ads more frequently. Conversely, if confidence in the model decreases, S-DAPI recalibrates to prioritize testing the best overall asset again.\\n\\n5. **Avoiding Poor Performance**: S-DAPI's recalibration feature ensures that it never converges to a solution that performs worse than a traditional A/B test would conclude. This approach preserves the balance between exploring new options and exploiting known successful assets over time.\\n\\nThis strategy enables S-DAPI to personalize user experiences effectively while minimizing the manual effort typically needed for monitoring A/B tests.\", additional_kwargs={}, response_metadata={})]"
      ]
     },
     "execution_count": 63,
     "metadata": {},
     "output_type": "execute_result"
    }
   ],
   "source": [
    "messages_list.append(AIMessage(content=response.content))\n",
    "messages_list"
   ]
  },
  {
   "cell_type": "code",
   "execution_count": 64,
   "metadata": {},
   "outputs": [
    {
     "data": {
      "text/plain": [
       "[SystemMessage(content='You are an expert at building recommendation engines using contextual bandit models.\\n    When responding to a user, you should use the reference text and chat history to guide your response.\\n    Please tell the user when you are basing your answer on iformation that is not in the reference text.\\n    Please read the query, reference text, and response history carefully before determining your response.\\n    The reference text is provided below:\\n    [BEGIN DATA]\\n    ************\\n    [Reference text]: # rvo-sdapi-models\\nSupervised Decision API (SDAPI) is a decision engine that leverages Make user data and AI generated content tags to determine the best ad. The model aims to both increase user engagement (e.g. clicks, views, purchases, etc.) and to reduce the manual effort needed to test and target Mario drivers. \\n\\n## Run notebooks / jobs\\n-  Train jobs / notebooks require:\\n    - Databricks runtime 15.4.15 ML\\n-  Deploy jobs / notebooks require:\\n    - Databricks runtime 11.3.55 ML\\n    - Install: dbfs:/Libraries/Python/model-registry-python/model_registry_python-v1.2.7-py3-none-any.whl\\n\\n2. Register a client with `Model Registry-prod (PROD)`, `Jarvis API-prod (PROD)`, and `Jarvis API-dev (DEV) in Pontifex to be able to acquire a bearer token.\\n\\n## Sample request data\\n- Sample input request\\n   ```json\\n    [\\n    {\\n        \"key\": \"anonymousId\",\\n        \"value\": \"b51099ff-e704-4dc9-9a08-1fb2a5accd76\"\\n    },\\n    {\\n        \"key\": \"context\",\\n        \"value\": \"{\\\\\"audiences\\\\\":[],\\\\\"day_of_week\\\\\":\\\\\"Tuesday\\\\\",\\\\\"desktop\\\\\":false,\\\\\"geo_lat\\\\\":40.0992,\\\\\"geo_long\\\\\":-83.1141,\\\\\"hour\\\\\":1,\\\\\"instance_id\\\\\":\\\\\"25790f17-49ed-4a35-8d7b-f0924b2c3e7f\\\\\",\\\\\"url\\\\\":\\\\\"https://now.optum.com/shop?utm_source=promotion\\\\\\\\u0026utm_medium=myuhc\\\\\\\\u0026utm_term=\\\\\\\\u0026utm_content=optum-store-myuhc-hsa-balance-page\\\\\\\\u0026utm_campaign=storewide-promo\\\\\\\\u0026utm_nooverride=1\\\\\",\\\\\"url_referrer\\\\\":\\\\\"\\\\\"}\"\\n    },\\n    {\\n        \"key\": \"holdout\",\\n        \"value\": \"15wGfKvzLkf29pY00y3nZL\"\\n    },\\n    {\\n        \"key\": \"id\",\\n        \"value\": \"req_35cd1108-174d-4bd6-a950-1786e05b5f09\"\\n    },\\n    {\\n        \"key\": \"instanceId\",\\n        \"value\": \"25790f17-49ed-4a35-8d7b-f0924b2c3e7f\"\\n    },\\n    {\\n        \"key\": \"options\",\\n        \"value\": \"{\\\\\"15wGfKvzLkf29pY00y3nZL\\\\\":{},\\\\\"43Er4K6U5nINcDpqs8C0lz\\\\\":{},\\\\\"50dlsXuPUsFgqCFNQWWp1Y\\\\\":{},\\\\\"7nmXYgfB0Y9RsNjsvKkYHx\\\\\":{},\\\\\"zKS61uMGSrxucLoevn4xJ\\\\\":{}}\"\\n    },\\n    {\\n        \"key\": \"sessionId\",\\n        \"value\": \"7fbd2ac0-4818-4ac2-bf19-b56f81d28cd6\"\\n    }\\n    ]\\n   ```\\n\\n- Sample output\\n   ```json\\n   [\\n    {\\n        \"key\": \"output\",\\n        \"value\": \"{\\\\\"dice_decision\\\\\":\\\\\"ts_model\\\\\",\\\\\"model_type\\\\\":\\\\\"NA\\\\\",\\\\\"model_version\\\\\":5,\\\\\"option\\\\\":\\\\\"43Er4K6U5nINcDpqs8C0lz\\\\\",\\\\\"option_predicted_values\\\\\":[{\\\\\"predicted_reward\\\\\":0.006962070624737352,\\\\\"selected_option\\\\\":\\\\\"15wGfKvzLkf29pY00y3nZL\\\\\"},{\\\\\"predicted_reward\\\\\":0.00918130237673443,\\\\\"selected_option\\\\\":\\\\\"43Er4K6U5nINcDpqs8C0lz\\\\\"},{\\\\\"predicted_reward\\\\\":0.006460325149096409,\\\\\"selected_option\\\\\":\\\\\"50dlsXuPUsFgqCFNQWWp1Y\\\\\"},{\\\\\"predicted_reward\\\\\":0.0077093961126640555,\\\\\"selected_option\\\\\":\\\\\"7nmXYgfB0Y9RsNjsvKkYHx\\\\\"},{\\\\\"predicted_reward\\\\\":0.0069403018616342495,\\\\\"selected_option\\\\\":\\\\\"zKS61uMGSrxucLoevn4xJ\\\\\"}],\\\\\"rev_decision\\\\\":\\\\\"false\\\\\",\\\\\"selected_option_features\\\\\":{\\\\\"decision_rpc\\\\\":0},\\\\\"selected_option_predicted_reward\\\\\":0.00918130237673443}\"\\n    }\\n    ]\\n   ```\\n## References\\n- [Confluence Documentation](https://rvohealth.atlassian.net/wiki/spaces/DHD/pages/327188599/S-DAPI)\\n- [SDAPI Case Study](https://docs.google.com/document/d/1o7g-VQ8iR47PPHBDQ_5F212bCoKgzUu2Ajpvo1z55ew/edit?tab=t.0)\\n\\n\\n# Supervised Decision API (S-DAPI)\\n\\nThis page describes our Supervised Decision API, which is better known as S-DAPI.\\n\\n## What is S-DAPI?\\n\\nS-DAPI is a decision engine that can be used to personalize website experiences toward a specific goal, such as clicks or revenue per view. Under the hood, S-DAPI leverages make user data, AI-generated content tags, and Mario’s asset data to help determine the optimal driver to show a visitor.\\n\\nThe goal of S-DAPI is to: \\n\\n- Increase user engagement through personalization and multi-arm bandit testing\\n- Reduce the manual effort needed to target users and test drivers\\n\\n## How does the S-DAPI algorithm work?\\n\\n### Summary\\n\\nS-DAPI essentially entails the four stages described by the bulleted list and graph below:\\n\\n1. S-DAPI starts randomly.\\n2. Then S-DAPI starts optimizing for the single overall-best asset using Thompson Sampling.\\n3. And finally, starts personalization using machine learning models.\\n\\nThe personalized model is treated as another arm in the bandit. S-DAPI calibrates how often to use the ML model via Thompson Sampling.  S-DAPI’s recalibration feature ensures that it will never converge to a worse solution than an A/B test would conclude.\\n\\n### Explore / Exploit Algorithm\\n\\nS-DAPI starts by serving all assets randomly to collect data, but then largely transitions to optimize for the single best asset using Thompson Sampling. Once S-DAPI has collected enough data, it introduces a ML model to show personalized ads based on user data and content tags. If the personalized model performs well, S-DAPI begins to show personalized ads more frequently. If S-DAPI’s confidence in the personalized model wanes, it automatically recalibrates to test the single overall-best asset again. S-DAPI’s recalibration feature ensures that it will never perform worse than an A/B test long-term while maintaining the upside for personalization and removing the manual effort traditionally needed to monitor A/B tests.\\n\\n### Supervised Model\\n\\nThe personalized model alluded to earlier is really a stacked model of four different classification models. All of the models include the same inputs:\\n\\n- Geo location\\n- Time of visit\\n- Make audiences\\n- Odysseus propensity scores\\n- Content tags\\n\\nBecause of the high number of tags, we use target encoding to reduce dimensionality and make it easier to capture interactions between content and drivers.\\n\\n#### Context Similarity\\n\\nWe embed and calculate the similarity between the title of the page being viewed and the body copy/description of the driver.\\n\\n### Training Methodology\\n\\nTo address reward imbalance (typically <1%) and optimize computational resources, the training process:\\n1. Includes all positive reward observations\\n2. Randomly samples non-reward observations\\n3. Balances the dataset for effective model training\\n\\nGiven that reward rates are usually below 1%, we downsample our data to handle the reward imbalance and, most importantly, to reduce the compute needed for our training jobs. More specifically, our training data includes all observations with a positive reward, and then randomly sampled observations that did not end with a reward.\\n\\nBelow is a sample of how the training data looks.\\n\\n### Scoring/Predicting\\n\\nS-DAPI agents are deployed via the Jarvis/Monarch integration, and requests are typically sent via Mario. Each S-DAPI request includes an object of driver/options for the model to choose between, in addition to the user and content data received. When the model receives options that are not in its training data, S-DAPI will randomly serve those assets a percentage of the time (100% if all the assets are new). \\n\\nOtherwise, the model will use Thompson Sampling to decide what action to take. If the model decides to try personalization, the supervised model predicts the probability of reward for each eligible driver given the input information on the user and content. The asset with the highest estimated probability of reward is returned to the requesting entityw.\\n\\nFor revenue-optimized agents, the model returns the asset with the highest output estimated from multiplying the probability of reward by the estimated revenue per click, which can either be hardcoded by the user or queried from historical data.\\n\\n### Deployment\\n\\nS-DAPI is a FastAPI hosted in ECS with a single endpoint.  \\n\\n1. Analysts configure new agents in Mario with:\\n   - Model name\\n   - Targeting logic\\n   - Eligible assets\\n2. API receives requests containing:\\n   - User ID\\n   - URL\\n   - Device information\\n   - Model name\\n3. Separate models are trained for each model name\\n4. New model names trigger random serving until sufficient training data is collected\\n    ************\\n    [END DATA]\\n    ', additional_kwargs={}, response_metadata={}),\n",
       " HumanMessage(content='Can you explain how the model handles the explore / exploit trade off', additional_kwargs={}, response_metadata={}),\n",
       " AIMessage(content=\"The model handles the explore/exploit trade-off through a systematic approach involving Thompson Sampling. Here’s a summary of how it works:\\n\\n1. **Initial Exploration**: S-DAPI starts by randomly serving all available assets to collect data. This helps in understanding which assets might perform better in terms of user engagement (e.g., clicks, purchases).\\n\\n2. **Optimizing for Best Asset**: After collecting sufficient data, S-DAPI transitions to optimizing for the single overall-best asset using Thompson Sampling. This statistical method allows the model to balance exploration (testing out different options) and exploitation (choosing the best-performing option based on current data).\\n\\n3. **Introducing Personalization**: Once enough data is gathered, S-DAPI introduces a machine learning model to show personalized ads based on user data and content tags. This personalized model is treated as an additional arm in the bandit framework.\\n\\n4. **Dynamic Calibration**: S-DAPI continuously calibrates how often to use the machine learning model compared to the best asset found so far. If the personalized model demonstrates strong performance, it starts to serve personalized ads more frequently. Conversely, if confidence in the model decreases, S-DAPI recalibrates to prioritize testing the best overall asset again.\\n\\n5. **Avoiding Poor Performance**: S-DAPI's recalibration feature ensures that it never converges to a solution that performs worse than a traditional A/B test would conclude. This approach preserves the balance between exploring new options and exploiting known successful assets over time.\\n\\nThis strategy enables S-DAPI to personalize user experiences effectively while minimizing the manual effort typically needed for monitoring A/B tests.\", additional_kwargs={}, response_metadata={}),\n",
       " HumanMessage(content='How does the model recalibrate?', additional_kwargs={}, response_metadata={})]"
      ]
     },
     "execution_count": 64,
     "metadata": {},
     "output_type": "execute_result"
    }
   ],
   "source": [
    "new_user_query = \"\"\"How does the model recalibrate?\"\"\"\n",
    "messages_list.append(HumanMessage(content=new_user_query))\n",
    "messages_list\n"
   ]
  },
  {
   "cell_type": "code",
   "execution_count": 65,
   "metadata": {},
   "outputs": [
    {
     "data": {
      "text/markdown": [
       "The model recalibrates by adjusting the frequency with which it uses the machine learning model in relation to the overall best asset that has been identified. Here’s how the recalibration process works in S-DAPI:\n",
       "\n",
       "1. **Performance Monitoring**: The model continuously monitors the performance of both the machine learning personalized model and the current best-performing asset identified through previous data.\n",
       "\n",
       "2. **Confidence in the Model**: If the personalized model is exhibiting good predictive performance and providing higher estimated probabilities of reward, S-DAPI will start to increase the frequency of serving personalized ads.\n",
       "\n",
       "3. **Response to Decreased Confidence**: If at any point the performance of the personalized model declines—suggesting a lack of confidence in its predictions—S-DAPI's recalibration feature acts automatically. It will decrease the frequency of the personalized model’s usage and revert to serving the overall best asset more often.\n",
       "\n",
       "4. **Ensuring Better Outcomes**: This dynamic recalibration mechanism ensures that S-DAPI never performs worse than traditional A/B testing methods over the long term. By allowing flexibility in the ratio of exploration versus exploitation, S-DAPI can adapt to changing conditions and user behaviors.\n",
       "\n",
       "In essence, the recalibration process allows S-DAPI to maintain an optimal balance between utilizing the most effective personalized strategies and ensuring robust performance by leveraging the best-known options."
      ],
      "text/plain": [
       "<IPython.core.display.Markdown object>"
      ]
     },
     "metadata": {},
     "output_type": "display_data"
    }
   ],
   "source": [
    "response = llm.invoke(messages_list)\n",
    "messages_list.append(AIMessage(content=response.content))\n",
    "display(Markdown(response.content))"
   ]
  },
  {
   "cell_type": "code",
   "execution_count": 66,
   "metadata": {},
   "outputs": [
    {
     "data": {
      "text/markdown": [
       "The personalization aspect of the S-DAPI model is achieved through the use of a sophisticated machine learning approach that tailors the user experience based on individual user data and content characteristics. Here are the key elements that define the personalization process:\n",
       "\n",
       "1. **Input Features for Personalization**: The personalized model incorporates various input features to make informed decisions. These include:\n",
       "   - Geo-location data of the user.\n",
       "   - The time of visit.\n",
       "   - Attributes related to audience segments (make audiences).\n",
       "   - Odysseus propensity scores.\n",
       "   - AI-generated content tags that describe the available options.\n",
       "\n",
       "2. **Stacked Model Structure**: The personalized model consists of a stacked architecture comprising four different classification models. All models share the same inputs but are designed to learn different patterns associated with user behavior and content effectiveness.\n",
       "\n",
       "3. **Target Encoding**: Given the complexity and high dimensionality of potential content tags, the model employs target encoding. This technique helps reduce dimensionality and facilitates the capture of interactions between different content types and drivers, improving the model's ability to make accurate predictions.\n",
       "\n",
       "4. **Context Similarity Calculation**: The model assesses the similarity between the current page title and the descriptions of different ads or drivers. This contextual analysis informs which ads may be more relevant or appealing to the user at that moment.\n",
       "\n",
       "5. **Thompson Sampling for Personalization**: When making decisions about which asset to show, S-DAPI uses Thompson Sampling to weigh the probability of reward from each eligible driver based on the personalized user data. This probabilistic approach helps balance the exploitation of known effective options with the exploration of potentially better alternative ads.\n",
       "\n",
       "6. **Dynamic Serving Adjustment**: As S-DAPI gathers data on the effectiveness of personalized ads, it dynamically adjusts the frequency of personalized serving. If the personalized model performs well, it will be shown more often; if confidence wanes, the model recalibrates to fall back on the best-performing non-personalized options.\n",
       "\n",
       "The overall goal of personalization in S-DAPI is to enhance user engagement—whether through clicks, views, or purchases—by delivering content that is more relevant and appealing to individuals based on their unique characteristics and behavior patterns. This approach reduces manual targeting efforts while maximizing the effectiveness of advertising strategies."
      ],
      "text/plain": [
       "<IPython.core.display.Markdown object>"
      ]
     },
     "metadata": {},
     "output_type": "display_data"
    }
   ],
   "source": [
    "messages_list.append(HumanMessage(content=\"Can you tell me more about the personalization aspect of the model?\"))\n",
    "response = llm.invoke(messages_list)\n",
    "messages_list.append(AIMessage(content=response.content))\n",
    "display(Markdown(response.content))"
   ]
  },
  {
   "cell_type": "code",
   "execution_count": 73,
   "metadata": {},
   "outputs": [
    {
     "ename": "TypeError",
     "evalue": "'module' object is not iterable",
     "output_type": "error",
     "traceback": [
      "\u001b[0;31m---------------------------------------------------------------------------\u001b[0m",
      "\u001b[0;31mTypeError\u001b[0m                                 Traceback (most recent call last)",
      "Cell \u001b[0;32mIn[73], line 13\u001b[0m\n\u001b[1;32m     11\u001b[0m graph_builder \u001b[38;5;241m=\u001b[39m StateGraph(State)\n\u001b[1;32m     12\u001b[0m \u001b[38;5;66;03m# Add nodes\u001b[39;00m\n\u001b[0;32m---> 13\u001b[0m graph_builder\u001b[38;5;241m.\u001b[39madd_node(\u001b[38;5;124m\"\u001b[39m\u001b[38;5;124mtools\u001b[39m\u001b[38;5;124m\"\u001b[39m, \u001b[43mToolNode\u001b[49m\u001b[43m(\u001b[49m\u001b[43mtools\u001b[49m\u001b[38;5;241;43m=\u001b[39;49m\u001b[43mtools\u001b[49m\u001b[43m)\u001b[49m)\n\u001b[1;32m     14\u001b[0m graph_builder\u001b[38;5;241m.\u001b[39madd_conditional_edges(\u001b[38;5;124m\"\u001b[39m\u001b[38;5;124mtools\u001b[39m\u001b[38;5;124m\"\u001b[39m, ToolNode(tools\u001b[38;5;241m=\u001b[39mtools))\n\u001b[1;32m     15\u001b[0m \u001b[38;5;66;03m# Add Edges\u001b[39;00m\n",
      "File \u001b[0;32m~/Desktop/github/resume-bot/.venv/lib/python3.10/site-packages/langgraph/prebuilt/tool_node.py:217\u001b[0m, in \u001b[0;36mToolNode.__init__\u001b[0;34m(self, tools, name, tags, handle_tool_errors, messages_key)\u001b[0m\n\u001b[1;32m    215\u001b[0m \u001b[38;5;28mself\u001b[39m\u001b[38;5;241m.\u001b[39mhandle_tool_errors \u001b[38;5;241m=\u001b[39m handle_tool_errors\n\u001b[1;32m    216\u001b[0m \u001b[38;5;28mself\u001b[39m\u001b[38;5;241m.\u001b[39mmessages_key \u001b[38;5;241m=\u001b[39m messages_key\n\u001b[0;32m--> 217\u001b[0m \u001b[38;5;28;01mfor\u001b[39;00m tool_ \u001b[38;5;129;01min\u001b[39;00m tools:\n\u001b[1;32m    218\u001b[0m     \u001b[38;5;28;01mif\u001b[39;00m \u001b[38;5;129;01mnot\u001b[39;00m \u001b[38;5;28misinstance\u001b[39m(tool_, BaseTool):\n\u001b[1;32m    219\u001b[0m         tool_ \u001b[38;5;241m=\u001b[39m create_tool(tool_)\n",
      "\u001b[0;31mTypeError\u001b[0m: 'module' object is not iterable"
     ]
    }
   ],
   "source": [
    "from langgraph.graph import StateGraph, START, END\n",
    "import logging\n",
    "import src.tools as tools\n",
    "from src.state import State\n",
    "from langgraph.prebuilt import ToolNode, tools_condition\n",
    "from langgraph.checkpoint.memory import MemorySaver\n",
    "\n",
    "\n",
    "\n",
    "# Set up Graph Builder with State\n",
    "graph_builder = StateGraph(State)\n",
    "# Add nodes\n",
    "graph_builder.add_node(\"tools\", ToolNode(tools=tools))\n",
    "graph_builder.add_conditional_edges(\"tools\", ToolNode(tools=tools))\n",
    "# Add Edges\n",
    "def tool_router(state: State) -> str:\n",
    "    last_message = state[\"messages\"][-1]\n",
    "    \n",
    "    if hasattr(last_message, \"tool_calls\") and last_message.tool_calls:\n",
    "        return \"tools\"\n",
    "    else:\n",
    "        return None\n",
    "\n",
    "\n",
    "    \n",
    "# graph_builder.add_conditional_edges(\"tools\", tool_router, {\"tools\": \"tools\"})\n",
    "graph_builder.add_edge(START, \"tools\")\n",
    "\n",
    "# Compile the graph\n",
    "memory = MemorySaver()\n",
    "graph = graph_builder.compile(checkpointer=memory)"
   ]
  },
  {
   "cell_type": "code",
   "execution_count": null,
   "metadata": {},
   "outputs": [],
   "source": [
    "rwa = RecommendationWorkAgent()\n",
    "rwa.answer_question(\"What is the purpose of the project?\")"
   ]
  },
  {
   "cell_type": "code",
   "execution_count": 11,
   "metadata": {},
   "outputs": [
    {
     "data": {
      "image/png": "[encoded data removed]",
      "text/plain": [
       "<IPython.core.display.Image object>"
      ]
     },
     "metadata": {},
     "output_type": "display_data"
    }
   ],
   "source": [
    "display(Image(graph.get_graph().draw_mermaid_png()))"
   ]
  }
 ],
 "metadata": {
  "kernelspec": {
   "display_name": ".venv",
   "language": "python",
   "name": "python3"
  },
  "language_info": {
   "codemirror_mode": {
    "name": "ipython",
    "version": 3
   },
   "file_extension": ".py",
   "mimetype": "text/x-python",
   "name": "python",
   "nbconvert_exporter": "python",
   "pygments_lexer": "ipython3",
   "version": "3.10.9"
  }
 },
 "nbformat": 4,
 "nbformat_minor": 2
}
